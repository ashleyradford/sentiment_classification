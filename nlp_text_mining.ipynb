{
 "cells": [
  {
   "cell_type": "markdown",
   "metadata": {
    "collapsed": true
   },
   "source": [
    "## Two Different Approaches in Text Mining\n",
    "Joshua Bang, Ashley Radford, Emeric Szaboky, Lash Tan\n",
    "\n",
    "Abstract: We will implement binary-class classification (positive sentiment vs. negative sentiment) based on text data on Yelp’s review dataset with two different approaches. The first approach is the standard __TF-IDF (Term Frequency - Inverse Document Frequency) matrix__ approach; We normalize text via case conversions, expanding contractions, removing special characters, removing stopwords etc. Then we construct a TF-IDF sparse matrix with true-labeled column and run supervised machine learning algorithms for binary-class classification. Another approach is a __Parsimonious Rule-Based Model for Sentiment Analysis__. We use an empirically constructed/validated gold-standard list of lexical features with their associated sentiment intensity measures. These features are combined with five general rules that embody grammatical and syntactical conventions, i.e., punctuation, capitalization, degree modifier, conjunction, and negation. We score each text/review with continuous polarity scores in range of [-1,1], where -1 represents extreme negative sentiment and 1 represents extreme positive sentiment. We investigate the performance of these two different approaches on different types of datasets, e.g., __Yelp review dataset (restaurant businesses only) vs. game review dataset__. By analyzing different performance results of two approaches on different topics of data, we reason advantages/disadvantages and limitations of each approach."
   ]
  },
  {
   "cell_type": "code",
   "execution_count": 1,
   "metadata": {},
   "outputs": [],
   "source": [
    "# packages needed\n",
    "import numpy as np\n",
    "import pandas as pd\n",
    "import random\n",
    "import json\n",
    "import re\n",
    "import matplotlib.pyplot as plt\n",
    "import pylab as plt\n",
    "import pickle\n",
    "import nltk"
   ]
  },
  {
   "cell_type": "markdown",
   "metadata": {},
   "source": [
    "## Yelp Review Dataset for Sentiment Analysis\n",
    "### Data Collection\n",
    "Conveniently, __Yelp__ has an open dataset @ https://www.yelp.com/dataset. One can simply one-click download *json* format review dataset. The dataset is called *review.json*, and it's saved in a local environment. We read this file and manipulate the dataset into pandas dataframe so that we can easily further manipulate/process/analyze.\n",
    "\n",
    "Note: The variable *data* is a type of *list*, and the elements inside *data* consist of *bytes* and *dictionary*. We take this dictionary's keys as column vector and take its values as row vectors."
   ]
  },
  {
   "cell_type": "code",
   "execution_count": 2,
   "metadata": {},
   "outputs": [],
   "source": [
    "# Yelp Review Dataset\n",
    "with open('review.json', 'rb') as f:\n",
    "    review_data = f.readlines()\n",
    "\n",
    "columns = list(json.loads(review_data[0]).keys())\n",
    "rows = []\n",
    "for i in range(0,len(review_data)):\n",
    "    rows.append(list(json.loads(review_data[i]).values()))\n",
    "\n",
    "review_data = pd.DataFrame(rows, columns=columns)\n",
    "\n",
    "# Yelp Business Dataset\n",
    "with open('business.json', 'rb') as f:\n",
    "    business_data = f.readlines()\n",
    "\n",
    "columns = list(json.loads(business_data[0]).keys())\n",
    "rows = []\n",
    "for i in range(0,len(business_data)):\n",
    "    rows.append(list(json.loads(business_data[i]).values()))\n",
    "\n",
    "business_data = pd.DataFrame(rows, columns=columns)"
   ]
  },
  {
   "cell_type": "markdown",
   "metadata": {},
   "source": [
    "We check how many businesses are still open and operating."
   ]
  },
  {
   "cell_type": "code",
   "execution_count": 3,
   "metadata": {},
   "outputs": [
    {
     "data": {
      "text/plain": [
       "0.8403764743622792"
      ]
     },
     "execution_count": 3,
     "metadata": {},
     "output_type": "execute_result"
    }
   ],
   "source": [
    "# proportion of open businesses\n",
    "np.sum(business_data['is_open']) / len(business_data)"
   ]
  },
  {
   "cell_type": "markdown",
   "metadata": {},
   "source": [
    "About 84% of businesses in the dataset are still operating. We truncate our data to the ones that are currently operating."
   ]
  },
  {
   "cell_type": "code",
   "execution_count": 4,
   "metadata": {},
   "outputs": [],
   "source": [
    "business_data = business_data[business_data.is_open == 1]"
   ]
  },
  {
   "cell_type": "markdown",
   "metadata": {},
   "source": [
    "Now we merge two datasets above into one *Yelp_review*. We will analyze this *Yelp_review* for text mining. We truncate it to only include restaurant businesses. Also, we remove rows with null values and all columns we do not need.\n",
    "\n",
    "We drop rows with null values, non-restaurant businesses, non-US/Canada/UK businesses."
   ]
  },
  {
   "cell_type": "code",
   "execution_count": 5,
   "metadata": {},
   "outputs": [
    {
     "data": {
      "text/html": [
       "<div>\n",
       "<style scoped>\n",
       "    .dataframe tbody tr th:only-of-type {\n",
       "        vertical-align: middle;\n",
       "    }\n",
       "\n",
       "    .dataframe tbody tr th {\n",
       "        vertical-align: top;\n",
       "    }\n",
       "\n",
       "    .dataframe thead th {\n",
       "        text-align: right;\n",
       "    }\n",
       "</style>\n",
       "<table border=\"1\" class=\"dataframe\">\n",
       "  <thead>\n",
       "    <tr style=\"text-align: right;\">\n",
       "      <th></th>\n",
       "      <th>review</th>\n",
       "      <th>rating</th>\n",
       "    </tr>\n",
       "  </thead>\n",
       "  <tbody>\n",
       "    <tr>\n",
       "      <th>0</th>\n",
       "      <td>I've always enjoyed my time at brick house foo...</td>\n",
       "      <td>4</td>\n",
       "    </tr>\n",
       "    <tr>\n",
       "      <th>1</th>\n",
       "      <td>1st time here. Came w my Unc bc Louies was clo...</td>\n",
       "      <td>2</td>\n",
       "    </tr>\n",
       "    <tr>\n",
       "      <th>2</th>\n",
       "      <td>Worse service ever andI use to be a server so ...</td>\n",
       "      <td>1</td>\n",
       "    </tr>\n",
       "    <tr>\n",
       "      <th>3</th>\n",
       "      <td>I am updating my review to 5-stars because I t...</td>\n",
       "      <td>5</td>\n",
       "    </tr>\n",
       "    <tr>\n",
       "      <th>4</th>\n",
       "      <td>I enjoyed this place.  I went the night the Bu...</td>\n",
       "      <td>4</td>\n",
       "    </tr>\n",
       "  </tbody>\n",
       "</table>\n",
       "</div>"
      ],
      "text/plain": [
       "                                              review  rating\n",
       "0  I've always enjoyed my time at brick house foo...       4\n",
       "1  1st time here. Came w my Unc bc Louies was clo...       2\n",
       "2  Worse service ever andI use to be a server so ...       1\n",
       "3  I am updating my review to 5-stars because I t...       5\n",
       "4  I enjoyed this place.  I went the night the Bu...       4"
      ]
     },
     "execution_count": 5,
     "metadata": {},
     "output_type": "execute_result"
    }
   ],
   "source": [
    "Yelp_review = pd.merge(business_data, review_data, how='outer', on='business_id')\n",
    "\n",
    "Yelp_review = Yelp_review[Yelp_review['name'].notnull()]\n",
    "Yelp_review = Yelp_review[Yelp_review['categories'].notnull()]\n",
    "\n",
    "def filter_restaurants(x):\n",
    "    if 'Restaurants' in x:\n",
    "        x = 1\n",
    "    else:\n",
    "        x = 0\n",
    "    return x\n",
    "Yelp_review['categories'] = np.vectorize(filter_restaurants)(Yelp_review['categories'])\n",
    "\n",
    "Yelp_review = Yelp_review[Yelp_review['categories'] == 1]\n",
    "\n",
    "Yelp_review = Yelp_review[(Yelp_review['state'] != '01') & (Yelp_review['state'] != '3') & (Yelp_review['state'] != '30')\n",
    "           & (Yelp_review['state'] != '6') & (Yelp_review['state'] != 'B') & (Yelp_review['state'] != 'BW')\n",
    "           & (Yelp_review['state'] != 'BY') & (Yelp_review['state'] != 'C') & (Yelp_review['state'] != 'HU')\n",
    "           & (Yelp_review['state'] != 'NI') & (Yelp_review['state'] != 'VS')]\n",
    "\n",
    "Yelp_review = Yelp_review[['text','stars_y']]\n",
    "Yelp_review = Yelp_review.rename(columns={'text': 'review', 'stars_y': 'rating'})\n",
    "Yelp_review = Yelp_review.reset_index(drop=True)\n",
    "Yelp_review.head()"
   ]
  },
  {
   "cell_type": "markdown",
   "metadata": {},
   "source": [
    "First of all, let's check the distribution of rating."
   ]
  },
  {
   "cell_type": "code",
   "execution_count": 6,
   "metadata": {
    "scrolled": true
   },
   "outputs": [
    {
     "data": {
      "image/png": "[encoded data removed]",
      "text/plain": [
       "<Figure size 432x288 with 1 Axes>"
      ]
     },
     "metadata": {
      "needs_background": "light"
     },
     "output_type": "display_data"
    }
   ],
   "source": [
    "n, bins, patches = plt.hist(Yelp_review['rating'], align='left',\n",
    "                            range=[0.5, 5.5], facecolor='blue', alpha=0.8)\n",
    "\n",
    "plt.xlabel('rating')\n",
    "plt.ylabel('frequency')\n",
    "plt.title('Yelp Review Rate Distribution')\n",
    "plt.grid(True)\n",
    "\n",
    "plt.show()"
   ]
  },
  {
   "cell_type": "markdown",
   "metadata": {},
   "source": [
    "We will remove 3-star rated reviews, because we don't think that 3-star reviews are a good represententative for negative or positive sentiment. More often than not, 3-star reviews show slightly more negative sentiments, but this highly depends on individual. For example, some give 3-stars thinking 3-stars are pretty bad, while others give 3-stars thinking 3-stars are slightly better than average. This is not representative and could be problematic. Furthermore, the proportion of 3-star rated reviews are relatively small, so it would not affect our training too much."
   ]
  },
  {
   "cell_type": "code",
   "execution_count": 7,
   "metadata": {},
   "outputs": [],
   "source": [
    "Yelp_review = Yelp_review[Yelp_review['rating'] != 3]"
   ]
  },
  {
   "cell_type": "markdown",
   "metadata": {},
   "source": [
    "We define a *sentiment_classifier* function to create a new column *sentiment*. `1` represents 'positive sentiment', and `0` represents 'negative sentiment'."
   ]
  },
  {
   "cell_type": "code",
   "execution_count": 8,
   "metadata": {},
   "outputs": [
    {
     "data": {
      "text/html": [
       "<div>\n",
       "<style scoped>\n",
       "    .dataframe tbody tr th:only-of-type {\n",
       "        vertical-align: middle;\n",
       "    }\n",
       "\n",
       "    .dataframe tbody tr th {\n",
       "        vertical-align: top;\n",
       "    }\n",
       "\n",
       "    .dataframe thead th {\n",
       "        text-align: right;\n",
       "    }\n",
       "</style>\n",
       "<table border=\"1\" class=\"dataframe\">\n",
       "  <thead>\n",
       "    <tr style=\"text-align: right;\">\n",
       "      <th></th>\n",
       "      <th>review</th>\n",
       "      <th>rating</th>\n",
       "      <th>sentiment</th>\n",
       "    </tr>\n",
       "  </thead>\n",
       "  <tbody>\n",
       "    <tr>\n",
       "      <th>0</th>\n",
       "      <td>I've always enjoyed my time at brick house foo...</td>\n",
       "      <td>4</td>\n",
       "      <td>1</td>\n",
       "    </tr>\n",
       "    <tr>\n",
       "      <th>1</th>\n",
       "      <td>1st time here. Came w my Unc bc Louies was clo...</td>\n",
       "      <td>2</td>\n",
       "      <td>0</td>\n",
       "    </tr>\n",
       "    <tr>\n",
       "      <th>2</th>\n",
       "      <td>Worse service ever andI use to be a server so ...</td>\n",
       "      <td>1</td>\n",
       "      <td>0</td>\n",
       "    </tr>\n",
       "    <tr>\n",
       "      <th>3</th>\n",
       "      <td>I am updating my review to 5-stars because I t...</td>\n",
       "      <td>5</td>\n",
       "      <td>1</td>\n",
       "    </tr>\n",
       "    <tr>\n",
       "      <th>4</th>\n",
       "      <td>I enjoyed this place.  I went the night the Bu...</td>\n",
       "      <td>4</td>\n",
       "      <td>1</td>\n",
       "    </tr>\n",
       "  </tbody>\n",
       "</table>\n",
       "</div>"
      ],
      "text/plain": [
       "                                              review  rating  sentiment\n",
       "0  I've always enjoyed my time at brick house foo...       4          1\n",
       "1  1st time here. Came w my Unc bc Louies was clo...       2          0\n",
       "2  Worse service ever andI use to be a server so ...       1          0\n",
       "3  I am updating my review to 5-stars because I t...       5          1\n",
       "4  I enjoyed this place.  I went the night the Bu...       4          1"
      ]
     },
     "execution_count": 8,
     "metadata": {},
     "output_type": "execute_result"
    }
   ],
   "source": [
    "def sentiment_classifier(x):\n",
    "    if (x == 5) or (x == 4):\n",
    "        y = 1\n",
    "    else:\n",
    "        y = 0\n",
    "    return y\n",
    "Yelp_review['sentiment'] = np.vectorize(sentiment_classifier)(Yelp_review['rating'])\n",
    "Yelp_review.head()"
   ]
  },
  {
   "cell_type": "markdown",
   "metadata": {},
   "source": [
    "Now we are good to go."
   ]
  },
  {
   "cell_type": "markdown",
   "metadata": {},
   "source": [
    "### 1. TF_IDF Matrix Approach\n",
    "In general, text data are highly unstructured with little-to-no numeric values. This means that, with the current format, it is hard to apply most of machine learning algorithms, which typically require numerical inputs. In the __TF-IDF (Term Frequency - Inverse Document Frequency) matrix__, we clean and pre-process text column by case-conversion, expanding contractions, removing special characters, removing stopwords etc. Note that this part is probably the most time-consuming and also most important part of text mining. Even though we have a big dataset of over 2 million observations to train, without appropriate pre-processing, the results we get will likely be \"bad\".\n",
    "\n",
    "Before we begin pre-processing, let's make a copy of the original data."
   ]
  },
  {
   "cell_type": "code",
   "execution_count": 9,
   "metadata": {},
   "outputs": [],
   "source": [
    "Yelp_review_original = Yelp_review.copy()"
   ]
  },
  {
   "cell_type": "markdown",
   "metadata": {},
   "source": [
    "Again, we start with the distribution of sentiment distribution."
   ]
  },
  {
   "cell_type": "code",
   "execution_count": 10,
   "metadata": {},
   "outputs": [
    {
     "data": {
      "image/png": "[encoded data removed]",
      "text/plain": [
       "<Figure size 432x288 with 1 Axes>"
      ]
     },
     "metadata": {
      "needs_background": "light"
     },
     "output_type": "display_data"
    }
   ],
   "source": [
    "x = [1,2]\n",
    "y = [Yelp_review[(Yelp_review['sentiment'] == 0)].count()[0],\n",
    "     (len(Yelp_review)-Yelp_review[(Yelp_review['sentiment'] == 0)].count()[0])]\n",
    "\n",
    "labels = list(np.unique(Yelp_review['sentiment']))\n",
    "\n",
    "plt.bar(x, y, align='center')\n",
    "plt.xticks(x, labels)\n",
    "plt.xlabel('sentiment')\n",
    "plt.ylabel('frequency')\n",
    "plt.title('Yelp Review Sentiment Distribution')\n",
    "plt.grid(True)\n",
    "plt.show()"
   ]
  },
  {
   "cell_type": "markdown",
   "metadata": {},
   "source": [
    "Data is a bit imbalanced. We will remedy this by randomly undersampling from the majority class (positive sentiment) without replacement. By doing this, we will lose some of potentially useful information, but that's a compromise we choose to make, considering we have big data."
   ]
  },
  {
   "cell_type": "code",
   "execution_count": 11,
   "metadata": {},
   "outputs": [
    {
     "data": {
      "image/png": "[encoded data removed]",
      "text/plain": [
       "<Figure size 432x288 with 1 Axes>"
      ]
     },
     "metadata": {
      "needs_background": "light"
     },
     "output_type": "display_data"
    }
   ],
   "source": [
    "Yelp_review_pos = Yelp_review[Yelp_review['sentiment'] == 1]\n",
    "Yelp_review_neg = Yelp_review[Yelp_review['sentiment'] == 0]\n",
    "\n",
    "np.random.seed(1)\n",
    "Yelp_review = pd.concat([Yelp_review_pos.sample(round(len(Yelp_review_pos)*0.5)), Yelp_review_neg])\n",
    "Yelp_review = Yelp_review.reset_index(drop=True)\n",
    "\n",
    "x = [1,2]\n",
    "y = [Yelp_review[(Yelp_review['sentiment'] == 0)].count()[0],\n",
    "     (len(Yelp_review)-Yelp_review[(Yelp_review['sentiment'] == 0)].count()[0])]\n",
    "\n",
    "labels = list(np.unique(Yelp_review['sentiment']))\n",
    "\n",
    "plt.bar(x, y, align='center')\n",
    "plt.xticks(x, labels)\n",
    "plt.xlabel('sentiment')\n",
    "plt.ylabel('frequency')\n",
    "plt.title('Yelp Review Sentiment Distribution')\n",
    "plt.grid(True)\n",
    "plt.show()"
   ]
  },
  {
   "cell_type": "markdown",
   "metadata": {},
   "source": [
    "Data looks more or less balanced now.\n",
    "\n",
    "Since we can't get new data with the same format, we will put aside *test dataset*. After pre-processing and training on the rest dataset, i.e. *train dataset*, we will test our model on the *test dataset* in the end, and that will be our performance metric. We choose to put aside 20% of data as a test dataset."
   ]
  },
  {
   "cell_type": "code",
   "execution_count": 12,
   "metadata": {},
   "outputs": [],
   "source": [
    "# train / test set split\n",
    "np.random.seed(1)\n",
    "indices = Yelp_review.index.tolist()\n",
    "np.random.shuffle(indices)\n",
    "\n",
    "train_indices = indices[:int(len(Yelp_review)*0.8)]\n",
    "test_indices = indices[int(len(Yelp_review)*0.8):]\n",
    "\n",
    "Yelp_review_train = Yelp_review.iloc[train_indices,:].reset_index(drop=True)\n",
    "Yelp_review_test = Yelp_review.iloc[test_indices,:].reset_index(drop=True)"
   ]
  },
  {
   "cell_type": "markdown",
   "metadata": {},
   "source": [
    "### Pre-processing\n",
    "#### 1) Case conversion\n",
    "Our first pre-processing task is converting every character to lower case. We assume that there is no significant difference between uppercase words and lowercase words, i.e., the word *__Her__* does not have a significant difference in meaning whether it's used as *\"__Her__ dog was sick\"* or as *\"I like __her__ dog\"*. With this assumption, there's no reason for us to consider *Her* and *her* as two different unique words."
   ]
  },
  {
   "cell_type": "code",
   "execution_count": 13,
   "metadata": {},
   "outputs": [
    {
     "data": {
      "text/html": [
       "<div>\n",
       "<style scoped>\n",
       "    .dataframe tbody tr th:only-of-type {\n",
       "        vertical-align: middle;\n",
       "    }\n",
       "\n",
       "    .dataframe tbody tr th {\n",
       "        vertical-align: top;\n",
       "    }\n",
       "\n",
       "    .dataframe thead th {\n",
       "        text-align: right;\n",
       "    }\n",
       "</style>\n",
       "<table border=\"1\" class=\"dataframe\">\n",
       "  <thead>\n",
       "    <tr style=\"text-align: right;\">\n",
       "      <th></th>\n",
       "      <th>review</th>\n",
       "      <th>rating</th>\n",
       "      <th>sentiment</th>\n",
       "      <th>converted_review</th>\n",
       "    </tr>\n",
       "  </thead>\n",
       "  <tbody>\n",
       "    <tr>\n",
       "      <th>0</th>\n",
       "      <td>Me and my Wife wanted to try this place once, ...</td>\n",
       "      <td>2</td>\n",
       "      <td>0</td>\n",
       "      <td>me and my wife wanted to try this place once, ...</td>\n",
       "    </tr>\n",
       "    <tr>\n",
       "      <th>1</th>\n",
       "      <td>Best Mexican food ever! Has a very comforting ...</td>\n",
       "      <td>5</td>\n",
       "      <td>1</td>\n",
       "      <td>best mexican food ever! has a very comforting ...</td>\n",
       "    </tr>\n",
       "    <tr>\n",
       "      <th>2</th>\n",
       "      <td>Want to thank Hong for her great customer serv...</td>\n",
       "      <td>5</td>\n",
       "      <td>1</td>\n",
       "      <td>want to thank hong for her great customer serv...</td>\n",
       "    </tr>\n",
       "    <tr>\n",
       "      <th>3</th>\n",
       "      <td>Absolutely delicious!\\nI am a big fan of afgha...</td>\n",
       "      <td>4</td>\n",
       "      <td>1</td>\n",
       "      <td>absolutely delicious!\\ni am a big fan of afgha...</td>\n",
       "    </tr>\n",
       "    <tr>\n",
       "      <th>4</th>\n",
       "      <td>Fast service, big portions, clean restaurant. ...</td>\n",
       "      <td>5</td>\n",
       "      <td>1</td>\n",
       "      <td>fast service, big portions, clean restaurant. ...</td>\n",
       "    </tr>\n",
       "  </tbody>\n",
       "</table>\n",
       "</div>"
      ],
      "text/plain": [
       "                                              review  rating  sentiment  \\\n",
       "0  Me and my Wife wanted to try this place once, ...       2          0   \n",
       "1  Best Mexican food ever! Has a very comforting ...       5          1   \n",
       "2  Want to thank Hong for her great customer serv...       5          1   \n",
       "3  Absolutely delicious!\\nI am a big fan of afgha...       4          1   \n",
       "4  Fast service, big portions, clean restaurant. ...       5          1   \n",
       "\n",
       "                                    converted_review  \n",
       "0  me and my wife wanted to try this place once, ...  \n",
       "1  best mexican food ever! has a very comforting ...  \n",
       "2  want to thank hong for her great customer serv...  \n",
       "3  absolutely delicious!\\ni am a big fan of afgha...  \n",
       "4  fast service, big portions, clean restaurant. ...  "
      ]
     },
     "execution_count": 13,
     "metadata": {},
     "output_type": "execute_result"
    }
   ],
   "source": [
    "Yelp_review_train['converted_review'] = Yelp_review_train['review'].str.lower()\n",
    "converted_review = list(Yelp_review_train['converted_review'])\n",
    "Yelp_review_train.head()"
   ]
  },
  {
   "cell_type": "markdown",
   "metadata": {},
   "source": [
    "#### 2) Expanding contractions\n",
    "Contractions such as *\"I'm\"*, *\"you're\"*, *\"they're\"* will be expanded to the formal form of *\"I am\"*, *\"you are\"*, *\"they are\"*. The reason we do this is that there is no difference at all between *\"I am\"* and *\"I'm\"* semantically, but when we tokenize them, they will be separated as different tokens, which is not a meaningful separation.\n",
    "\n",
    "Ambiguous contractions can be a problem here, though. There are some contractions that can have multiple meanings, which means that, without context, it will be hard to determine which means which. For example, *\"he'd\"* could be either *\"he would\"* or *\"he had\"*. Also, *\"ain't\"* could be either *\"am not\"* or *\"are not\"*. But if we think about it, this ambiguity does not play a major role for our purpose, sentiment analysis. Because these examples show little to no information about one's opinions. What matters is *\"not\"* and a verb that follows. And in case of *\"he'll\"* => *\"he will\"* or *\"he shall\"*, we simply choose *\"he will\"* since *\"he shall\"* is a rare expression, and we will remove a certain percentage of the least frequent tokens later anyway."
   ]
  },
  {
   "cell_type": "code",
   "execution_count": 14,
   "metadata": {},
   "outputs": [],
   "source": [
    "contraction_dict = { \n",
    "\"ain't\": \"am not\", \"aren't\": \"are not\", \"can't\": \"cannot\", \"'cause\": \"because\", \"could've\": \"could have\",\n",
    "\"couldn't\": \"could not\", \"didn't\": \"did not\", \"doesn't\": \"does not\", \"don't\": \"do not\", \"hadn't\": \"had not\",\n",
    "\"hasn't\": \"has not\", \"haven't\": \"have not\", \"he'd\": \"he would\", \"he'll\": \"he will\", \"he's\": \"he is\", \"how'd\": \"how did\",\n",
    "\"how'll\": \"how will\", \"how's\": \"how is\", \"i'd\": \"i would\", \"i'll\": \"i will\", \"i'm\": \"i am\", \"i've\": \"i have\",\n",
    "\"isn't\": \"is not\", \"it'd\": \"it would\", \"it'll\": \"it will\", \"it's\": \"it is\", \"let's\": \"let us\", \"might've\": \"might have\",\n",
    "\"mightn't\": \"might not\", \"must've\": \"must have\", \"mustn't\": \"must not\", \"needn't\": \"need not\", \"oughtn't\": \"ought not\",\n",
    "\"shan't\": \"shall not\", \"she'd\": \"she would\", \"she'll\": \"she will\", \"she's\": \"she is\", \"should've\": \"should have\",\n",
    "\"shouldn't\": \"should not\", \"that'd\": \"that would\", \"that's\": \"that is\", \"there'd\": \"there would\", \"there's\": \"there is\",\n",
    "\"they'd\": \"they would\", \"they'll\": \"they will\", \"they're\": \"they are\", \"they've\": \"they have\", \"wasn't\": \"was not\",\n",
    "\"we'd\": \"we would\", \"we'll\": \"we will\", \"we're\": \"we are\", \"we've\": \"we have\", \"weren't\": \"were not\", \"what'll\": \"what will\",\n",
    "\"what're\": \"what are\", \"what's\": \"what is\", \"what've\": \"what have\", \"when's\": \"when is\", \"when've\": \"when have\",\n",
    "\"where'd\": \"where did\", \"where's\": \"where is\", \"where've\": \"where have\", \"who'll\": \"who will\", \"who's\": \"who is\",\n",
    "\"who've\": \"who have\", \"why's\": \"why is\", \"why've\": \"why have\", \"will've\": \"will have\", \"won't\": \"will not\",\n",
    "\"would've\": \"would have\", \"wouldn't\": \"would not\", \"y'all\": \"you all\", \"you'd\": \"you would\", \"you'll\": \"you will\",\n",
    "\"you're\": \"you are\", \"you've\": \"you have\"\n",
    "}\n",
    "\n",
    "contraction_re = re.compile('(%s)' % '|'.join(contraction_dict.keys()))\n",
    "def expand_contractions(s, contraction_dict=contraction_dict):\n",
    "     def replace(match):\n",
    "         return contraction_dict[match.group(0)]\n",
    "     return contraction_re.sub(replace, s)\n",
    "    \n",
    "for i in range(0,len(converted_review)):\n",
    "    converted_review[i] = expand_contractions(converted_review[i])"
   ]
  },
  {
   "cell_type": "markdown",
   "metadata": {},
   "source": [
    "#### 3) Removing Special Characters\n",
    "Often punctuation or special characters do not have much significance when we analyze the text and utilize it for extracting features or information based on NLP and ML."
   ]
  },
  {
   "cell_type": "code",
   "execution_count": 15,
   "metadata": {},
   "outputs": [],
   "source": [
    "def remove_special_characters(sentence, keep_apostrophes=False):\n",
    "    sentence = sentence.strip()\n",
    "    if keep_apostrophes:\n",
    "        PATTERN = r'[!|?|$|&|*|%|@|(|)|~|#|^|-|_|+|=]' # add other characters here to remove them\n",
    "        filtered_sentence = re.sub(PATTERN, r'', sentence)\n",
    "    else:\n",
    "        PATTERN = r'[^a-zA-Z0-9 ]' # only extract alpha-numeric characters\n",
    "        filtered_sentence = re.sub(PATTERN, r'', sentence)\n",
    "    return filtered_sentence\n",
    "\n",
    "converted_review = [remove_special_characters(sentence) for sentence in converted_review]"
   ]
  },
  {
   "cell_type": "markdown",
   "metadata": {},
   "source": [
    "#### 4) Lemmatization\n",
    "Lemmantization is the process of determining the lemma, or root word, of a word. It is similar to stemming, except that it also depends on correctly identifying the intended part of speech and meaning of a word in its sentence, or even the surrounding context."
   ]
  },
  {
   "cell_type": "code",
   "execution_count": 16,
   "metadata": {
    "scrolled": true
   },
   "outputs": [],
   "source": [
    "from nltk.stem import WordNetLemmatizer\n",
    "from nltk import pos_tag\n",
    "from nltk.corpus import wordnet as wn\n",
    "\n",
    "wnl = WordNetLemmatizer()\n",
    "\n",
    "def tokenize_text(text):\n",
    "    tokens = nltk.word_tokenize(text) \n",
    "    tokens = [token.strip() for token in tokens]\n",
    "    return tokens\n",
    "\n",
    "# annotate text tokens with POS tags\n",
    "def pos_tag_text(text):\n",
    "    \n",
    "    def penn_to_wn_tags(pos_tag):\n",
    "        if pos_tag.startswith('J'):\n",
    "            return wn.ADJ\n",
    "        elif pos_tag.startswith('V'):\n",
    "            return wn.VERB\n",
    "        elif pos_tag.startswith('N'):\n",
    "            return wn.NOUN\n",
    "        elif pos_tag.startswith('R'):\n",
    "            return wn.ADV\n",
    "        else:\n",
    "            return None\n",
    "\n",
    "    tagged_text = pos_tag(text)\n",
    "    tagged_lower_text = [(word.lower(), penn_to_wn_tags(pos_tag)) for word, pos_tag in tagged_text]\n",
    "    return tagged_lower_text\n",
    "\n",
    "# lemmatize text based on POS tags \n",
    "def lemmatize_text(text):\n",
    "    text = tokenize_text(text)\n",
    "    pos_tagged_text = pos_tag_text(text)\n",
    "    lemmatized_tokens = [wnl.lemmatize(word, pos_tag) if pos_tag\n",
    "                         else word                     \n",
    "                         for word, pos_tag in pos_tagged_text]\n",
    "    lemmatized_text = ' '.join(lemmatized_tokens)\n",
    "    return lemmatized_text\n",
    "\n",
    "converted_review = [lemmatize_text(sentence) for sentence in converted_review]"
   ]
  },
  {
   "cell_type": "markdown",
   "metadata": {},
   "source": [
    "Now we add a new column *converted_review* to the train data. Then we pickle *Yelp_review_train* dataset."
   ]
  },
  {
   "cell_type": "code",
   "execution_count": 17,
   "metadata": {},
   "outputs": [
    {
     "data": {
      "text/html": [
       "<div>\n",
       "<style scoped>\n",
       "    .dataframe tbody tr th:only-of-type {\n",
       "        vertical-align: middle;\n",
       "    }\n",
       "\n",
       "    .dataframe tbody tr th {\n",
       "        vertical-align: top;\n",
       "    }\n",
       "\n",
       "    .dataframe thead th {\n",
       "        text-align: right;\n",
       "    }\n",
       "</style>\n",
       "<table border=\"1\" class=\"dataframe\">\n",
       "  <thead>\n",
       "    <tr style=\"text-align: right;\">\n",
       "      <th></th>\n",
       "      <th>review</th>\n",
       "      <th>rating</th>\n",
       "      <th>sentiment</th>\n",
       "      <th>converted_review</th>\n",
       "    </tr>\n",
       "  </thead>\n",
       "  <tbody>\n",
       "    <tr>\n",
       "      <th>0</th>\n",
       "      <td>Me and my Wife wanted to try this place once, ...</td>\n",
       "      <td>2</td>\n",
       "      <td>0</td>\n",
       "      <td>me and my wife want to try this place once it ...</td>\n",
       "    </tr>\n",
       "    <tr>\n",
       "      <th>1</th>\n",
       "      <td>Best Mexican food ever! Has a very comforting ...</td>\n",
       "      <td>5</td>\n",
       "      <td>1</td>\n",
       "      <td>best mexican food ever have a very comforting ...</td>\n",
       "    </tr>\n",
       "    <tr>\n",
       "      <th>2</th>\n",
       "      <td>Want to thank Hong for her great customer serv...</td>\n",
       "      <td>5</td>\n",
       "      <td>1</td>\n",
       "      <td>want to thank hong for her great customer serv...</td>\n",
       "    </tr>\n",
       "    <tr>\n",
       "      <th>3</th>\n",
       "      <td>Absolutely delicious!\\nI am a big fan of afgha...</td>\n",
       "      <td>4</td>\n",
       "      <td>1</td>\n",
       "      <td>absolutely deliciousi be a big fan of afghani ...</td>\n",
       "    </tr>\n",
       "    <tr>\n",
       "      <th>4</th>\n",
       "      <td>Fast service, big portions, clean restaurant. ...</td>\n",
       "      <td>5</td>\n",
       "      <td>1</td>\n",
       "      <td>fast service big portion clean restaurant grea...</td>\n",
       "    </tr>\n",
       "    <tr>\n",
       "      <th>5</th>\n",
       "      <td>Nobu should add three letters to the end of it...</td>\n",
       "      <td>1</td>\n",
       "      <td>0</td>\n",
       "      <td>nobu should add three letter to the end of its...</td>\n",
       "    </tr>\n",
       "    <tr>\n",
       "      <th>6</th>\n",
       "      <td>The pictures don't do this place justice, the ...</td>\n",
       "      <td>5</td>\n",
       "      <td>1</td>\n",
       "      <td>the picture do not do this place justice the d...</td>\n",
       "    </tr>\n",
       "    <tr>\n",
       "      <th>7</th>\n",
       "      <td>My family and I visit this restaurant often. T...</td>\n",
       "      <td>1</td>\n",
       "      <td>0</td>\n",
       "      <td>my family and i visit this restaurant often to...</td>\n",
       "    </tr>\n",
       "    <tr>\n",
       "      <th>8</th>\n",
       "      <td>Hands down, far and away, the best deli in Dan...</td>\n",
       "      <td>5</td>\n",
       "      <td>1</td>\n",
       "      <td>hand down far and away the best deli in dane c...</td>\n",
       "    </tr>\n",
       "    <tr>\n",
       "      <th>9</th>\n",
       "      <td>Disgusting, it started off with the lady worki...</td>\n",
       "      <td>1</td>\n",
       "      <td>0</td>\n",
       "      <td>disgust it start off with the lady work there ...</td>\n",
       "    </tr>\n",
       "  </tbody>\n",
       "</table>\n",
       "</div>"
      ],
      "text/plain": [
       "                                              review  rating  sentiment  \\\n",
       "0  Me and my Wife wanted to try this place once, ...       2          0   \n",
       "1  Best Mexican food ever! Has a very comforting ...       5          1   \n",
       "2  Want to thank Hong for her great customer serv...       5          1   \n",
       "3  Absolutely delicious!\\nI am a big fan of afgha...       4          1   \n",
       "4  Fast service, big portions, clean restaurant. ...       5          1   \n",
       "5  Nobu should add three letters to the end of it...       1          0   \n",
       "6  The pictures don't do this place justice, the ...       5          1   \n",
       "7  My family and I visit this restaurant often. T...       1          0   \n",
       "8  Hands down, far and away, the best deli in Dan...       5          1   \n",
       "9  Disgusting, it started off with the lady worki...       1          0   \n",
       "\n",
       "                                    converted_review  \n",
       "0  me and my wife want to try this place once it ...  \n",
       "1  best mexican food ever have a very comforting ...  \n",
       "2  want to thank hong for her great customer serv...  \n",
       "3  absolutely deliciousi be a big fan of afghani ...  \n",
       "4  fast service big portion clean restaurant grea...  \n",
       "5  nobu should add three letter to the end of its...  \n",
       "6  the picture do not do this place justice the d...  \n",
       "7  my family and i visit this restaurant often to...  \n",
       "8  hand down far and away the best deli in dane c...  \n",
       "9  disgust it start off with the lady work there ...  "
      ]
     },
     "execution_count": 17,
     "metadata": {},
     "output_type": "execute_result"
    }
   ],
   "source": [
    "Yelp_review_train['converted_review'] = pd.Series(converted_review)\n",
    "\n",
    "pickle.dump(Yelp_review_train, open('Yelp_review_train.pkl', 'wb'))\n",
    "Yelp_review_train = pickle.load(open('Yelp_review_train.pkl', 'rb'))\n",
    "Yelp_review_train.head(10)"
   ]
  },
  {
   "cell_type": "markdown",
   "metadata": {},
   "source": [
    "#### 4) Tokenization / Parameter Tuning\n",
    "We wanted to fine-tune parameters for *TfidfVectorizer* and *RandomForestClassifier*, but it takes a significant amount of computing power and time, which causes kernel death. So, we skip this step."
   ]
  },
  {
   "cell_type": "code",
   "execution_count": 18,
   "metadata": {
    "scrolled": false
   },
   "outputs": [],
   "source": [
    "#from sklearn.pipeline import Pipeline\n",
    "#from sklearn.model_selection import GridSearchCV\n",
    "#from sklearn.feature_extraction.text import TfidfVectorizer\n",
    "#from sklearn.ensemble import RandomForestClassifier\n",
    "#\n",
    "#tfidf_vectorizer = TfidfVectorizer()\n",
    "#rf_classifier = RandomForestClassifier()\n",
    "#\n",
    "# random forest classifier\n",
    "#pipeline = Pipeline([('vect', tfidf_vectorizer),('clf', rf_classifier)])\n",
    "#param_grid = [{\n",
    "#              'vect__analyzer': ['word'],\n",
    "#              'vect__max_df': [0.8,0.85,0.9],\n",
    "#              'vect__min_df': [0.01,0.05,0.1],\n",
    "#              'vect__stop_words': ['english'],\n",
    "#              'clf__n_estimators': [10,30,50]\n",
    "#               }\n",
    "#              ]\n",
    "#gridsearch = GridSearchCV(pipeline, param_grid, cv=5, scoring='f1_weighted', verbose=20)\n",
    "#gridresult = gridsearch.fit(Yelp_review_train['converted_review'], Yelp_review_train['sentiment'])\n",
    "#gridresult.best_params_\n",
    "#gridresult.best_score_"
   ]
  },
  {
   "cell_type": "markdown",
   "metadata": {},
   "source": [
    "We combine stopwords from both *sklearn.feature_extraction* and *nltk.corpus*."
   ]
  },
  {
   "cell_type": "code",
   "execution_count": 19,
   "metadata": {},
   "outputs": [],
   "source": [
    "# construct stop_words_set (sklearn built-in list + nltk list)\n",
    "from sklearn.feature_extraction import stop_words\n",
    "from nltk.corpus import stopwords\n",
    "\n",
    "stop_words_set = list(list(stop_words.ENGLISH_STOP_WORDS) + stopwords.words('english'))\n",
    "stop_words_set = list(np.unique(stop_words_set))"
   ]
  },
  {
   "cell_type": "markdown",
   "metadata": {},
   "source": [
    "By using TfidfVectorizer fucntion, we extract a TF-IDF sparse matrix. We use the stopwords set created above, and tune *max_df* and *min_df* parameters to cut off too (in)frequent terms. We chose *max_df = 0.8* and *min_df = 0.01* based on a few trials on a separate environment where kernel does not die. We pickled *Yelp_tfidf_vect_fit* with these parameters."
   ]
  },
  {
   "cell_type": "code",
   "execution_count": 20,
   "metadata": {},
   "outputs": [
    {
     "data": {
      "text/html": [
       "<div>\n",
       "<style scoped>\n",
       "    .dataframe tbody tr th:only-of-type {\n",
       "        vertical-align: middle;\n",
       "    }\n",
       "\n",
       "    .dataframe tbody tr th {\n",
       "        vertical-align: top;\n",
       "    }\n",
       "\n",
       "    .dataframe thead th {\n",
       "        text-align: right;\n",
       "    }\n",
       "</style>\n",
       "<table border=\"1\" class=\"dataframe\">\n",
       "  <thead>\n",
       "    <tr style=\"text-align: right;\">\n",
       "      <th></th>\n",
       "      <th>0</th>\n",
       "      <th>1</th>\n",
       "      <th>2</th>\n",
       "      <th>3</th>\n",
       "      <th>4</th>\n",
       "      <th>5</th>\n",
       "      <th>6</th>\n",
       "      <th>7</th>\n",
       "      <th>8</th>\n",
       "      <th>9</th>\n",
       "      <th>...</th>\n",
       "      <th>677</th>\n",
       "      <th>678</th>\n",
       "      <th>679</th>\n",
       "      <th>680</th>\n",
       "      <th>681</th>\n",
       "      <th>682</th>\n",
       "      <th>683</th>\n",
       "      <th>684</th>\n",
       "      <th>685</th>\n",
       "      <th>y</th>\n",
       "    </tr>\n",
       "  </thead>\n",
       "  <tbody>\n",
       "    <tr>\n",
       "      <th>0</th>\n",
       "      <td>0.0</td>\n",
       "      <td>0.0</td>\n",
       "      <td>0.0</td>\n",
       "      <td>0.0</td>\n",
       "      <td>0.0</td>\n",
       "      <td>0.0</td>\n",
       "      <td>0.0</td>\n",
       "      <td>0.0</td>\n",
       "      <td>0.0</td>\n",
       "      <td>0.0</td>\n",
       "      <td>...</td>\n",
       "      <td>0.0</td>\n",
       "      <td>0.0</td>\n",
       "      <td>0.0</td>\n",
       "      <td>0.0</td>\n",
       "      <td>0.0</td>\n",
       "      <td>0.0</td>\n",
       "      <td>0.000000</td>\n",
       "      <td>0.0</td>\n",
       "      <td>0.0</td>\n",
       "      <td>0</td>\n",
       "    </tr>\n",
       "    <tr>\n",
       "      <th>1</th>\n",
       "      <td>0.0</td>\n",
       "      <td>0.0</td>\n",
       "      <td>0.0</td>\n",
       "      <td>0.0</td>\n",
       "      <td>0.0</td>\n",
       "      <td>0.0</td>\n",
       "      <td>0.0</td>\n",
       "      <td>0.0</td>\n",
       "      <td>0.0</td>\n",
       "      <td>0.0</td>\n",
       "      <td>...</td>\n",
       "      <td>0.0</td>\n",
       "      <td>0.0</td>\n",
       "      <td>0.0</td>\n",
       "      <td>0.0</td>\n",
       "      <td>0.0</td>\n",
       "      <td>0.0</td>\n",
       "      <td>0.000000</td>\n",
       "      <td>0.0</td>\n",
       "      <td>0.0</td>\n",
       "      <td>1</td>\n",
       "    </tr>\n",
       "    <tr>\n",
       "      <th>2</th>\n",
       "      <td>0.0</td>\n",
       "      <td>0.0</td>\n",
       "      <td>0.0</td>\n",
       "      <td>0.0</td>\n",
       "      <td>0.0</td>\n",
       "      <td>0.0</td>\n",
       "      <td>0.0</td>\n",
       "      <td>0.0</td>\n",
       "      <td>0.0</td>\n",
       "      <td>0.0</td>\n",
       "      <td>...</td>\n",
       "      <td>0.0</td>\n",
       "      <td>0.0</td>\n",
       "      <td>0.0</td>\n",
       "      <td>0.0</td>\n",
       "      <td>0.0</td>\n",
       "      <td>0.0</td>\n",
       "      <td>0.000000</td>\n",
       "      <td>0.0</td>\n",
       "      <td>0.0</td>\n",
       "      <td>1</td>\n",
       "    </tr>\n",
       "    <tr>\n",
       "      <th>3</th>\n",
       "      <td>0.0</td>\n",
       "      <td>0.0</td>\n",
       "      <td>0.0</td>\n",
       "      <td>0.0</td>\n",
       "      <td>0.0</td>\n",
       "      <td>0.0</td>\n",
       "      <td>0.0</td>\n",
       "      <td>0.0</td>\n",
       "      <td>0.0</td>\n",
       "      <td>0.0</td>\n",
       "      <td>...</td>\n",
       "      <td>0.0</td>\n",
       "      <td>0.0</td>\n",
       "      <td>0.0</td>\n",
       "      <td>0.0</td>\n",
       "      <td>0.0</td>\n",
       "      <td>0.0</td>\n",
       "      <td>0.000000</td>\n",
       "      <td>0.0</td>\n",
       "      <td>0.0</td>\n",
       "      <td>1</td>\n",
       "    </tr>\n",
       "    <tr>\n",
       "      <th>4</th>\n",
       "      <td>0.0</td>\n",
       "      <td>0.0</td>\n",
       "      <td>0.0</td>\n",
       "      <td>0.0</td>\n",
       "      <td>0.0</td>\n",
       "      <td>0.0</td>\n",
       "      <td>0.0</td>\n",
       "      <td>0.0</td>\n",
       "      <td>0.0</td>\n",
       "      <td>0.0</td>\n",
       "      <td>...</td>\n",
       "      <td>0.0</td>\n",
       "      <td>0.0</td>\n",
       "      <td>0.0</td>\n",
       "      <td>0.0</td>\n",
       "      <td>0.0</td>\n",
       "      <td>0.0</td>\n",
       "      <td>0.000000</td>\n",
       "      <td>0.0</td>\n",
       "      <td>0.0</td>\n",
       "      <td>1</td>\n",
       "    </tr>\n",
       "    <tr>\n",
       "      <th>5</th>\n",
       "      <td>0.0</td>\n",
       "      <td>0.0</td>\n",
       "      <td>0.0</td>\n",
       "      <td>0.0</td>\n",
       "      <td>0.0</td>\n",
       "      <td>0.0</td>\n",
       "      <td>0.0</td>\n",
       "      <td>0.0</td>\n",
       "      <td>0.0</td>\n",
       "      <td>0.0</td>\n",
       "      <td>...</td>\n",
       "      <td>0.0</td>\n",
       "      <td>0.0</td>\n",
       "      <td>0.0</td>\n",
       "      <td>0.0</td>\n",
       "      <td>0.0</td>\n",
       "      <td>0.0</td>\n",
       "      <td>0.000000</td>\n",
       "      <td>0.0</td>\n",
       "      <td>0.0</td>\n",
       "      <td>0</td>\n",
       "    </tr>\n",
       "    <tr>\n",
       "      <th>6</th>\n",
       "      <td>0.0</td>\n",
       "      <td>0.0</td>\n",
       "      <td>0.0</td>\n",
       "      <td>0.0</td>\n",
       "      <td>0.0</td>\n",
       "      <td>0.0</td>\n",
       "      <td>0.0</td>\n",
       "      <td>0.0</td>\n",
       "      <td>0.0</td>\n",
       "      <td>0.0</td>\n",
       "      <td>...</td>\n",
       "      <td>0.0</td>\n",
       "      <td>0.0</td>\n",
       "      <td>0.0</td>\n",
       "      <td>0.0</td>\n",
       "      <td>0.0</td>\n",
       "      <td>0.0</td>\n",
       "      <td>0.000000</td>\n",
       "      <td>0.0</td>\n",
       "      <td>0.0</td>\n",
       "      <td>1</td>\n",
       "    </tr>\n",
       "    <tr>\n",
       "      <th>7</th>\n",
       "      <td>0.0</td>\n",
       "      <td>0.0</td>\n",
       "      <td>0.0</td>\n",
       "      <td>0.0</td>\n",
       "      <td>0.0</td>\n",
       "      <td>0.0</td>\n",
       "      <td>0.0</td>\n",
       "      <td>0.0</td>\n",
       "      <td>0.0</td>\n",
       "      <td>0.0</td>\n",
       "      <td>...</td>\n",
       "      <td>0.0</td>\n",
       "      <td>0.0</td>\n",
       "      <td>0.0</td>\n",
       "      <td>0.0</td>\n",
       "      <td>0.0</td>\n",
       "      <td>0.0</td>\n",
       "      <td>0.000000</td>\n",
       "      <td>0.0</td>\n",
       "      <td>0.0</td>\n",
       "      <td>0</td>\n",
       "    </tr>\n",
       "    <tr>\n",
       "      <th>8</th>\n",
       "      <td>0.0</td>\n",
       "      <td>0.0</td>\n",
       "      <td>0.0</td>\n",
       "      <td>0.0</td>\n",
       "      <td>0.0</td>\n",
       "      <td>0.0</td>\n",
       "      <td>0.0</td>\n",
       "      <td>0.0</td>\n",
       "      <td>0.0</td>\n",
       "      <td>0.0</td>\n",
       "      <td>...</td>\n",
       "      <td>0.0</td>\n",
       "      <td>0.0</td>\n",
       "      <td>0.0</td>\n",
       "      <td>0.0</td>\n",
       "      <td>0.0</td>\n",
       "      <td>0.0</td>\n",
       "      <td>0.000000</td>\n",
       "      <td>0.0</td>\n",
       "      <td>0.0</td>\n",
       "      <td>1</td>\n",
       "    </tr>\n",
       "    <tr>\n",
       "      <th>9</th>\n",
       "      <td>0.0</td>\n",
       "      <td>0.0</td>\n",
       "      <td>0.0</td>\n",
       "      <td>0.0</td>\n",
       "      <td>0.0</td>\n",
       "      <td>0.0</td>\n",
       "      <td>0.0</td>\n",
       "      <td>0.0</td>\n",
       "      <td>0.0</td>\n",
       "      <td>0.0</td>\n",
       "      <td>...</td>\n",
       "      <td>0.0</td>\n",
       "      <td>0.0</td>\n",
       "      <td>0.0</td>\n",
       "      <td>0.0</td>\n",
       "      <td>0.0</td>\n",
       "      <td>0.0</td>\n",
       "      <td>0.193369</td>\n",
       "      <td>0.0</td>\n",
       "      <td>0.0</td>\n",
       "      <td>0</td>\n",
       "    </tr>\n",
       "  </tbody>\n",
       "</table>\n",
       "<p>10 rows × 687 columns</p>\n",
       "</div>"
      ],
      "text/plain": [
       "     0    1    2    3    4    5    6    7    8    9 ...  677  678  679  680  \\\n",
       "0  0.0  0.0  0.0  0.0  0.0  0.0  0.0  0.0  0.0  0.0 ...  0.0  0.0  0.0  0.0   \n",
       "1  0.0  0.0  0.0  0.0  0.0  0.0  0.0  0.0  0.0  0.0 ...  0.0  0.0  0.0  0.0   \n",
       "2  0.0  0.0  0.0  0.0  0.0  0.0  0.0  0.0  0.0  0.0 ...  0.0  0.0  0.0  0.0   \n",
       "3  0.0  0.0  0.0  0.0  0.0  0.0  0.0  0.0  0.0  0.0 ...  0.0  0.0  0.0  0.0   \n",
       "4  0.0  0.0  0.0  0.0  0.0  0.0  0.0  0.0  0.0  0.0 ...  0.0  0.0  0.0  0.0   \n",
       "5  0.0  0.0  0.0  0.0  0.0  0.0  0.0  0.0  0.0  0.0 ...  0.0  0.0  0.0  0.0   \n",
       "6  0.0  0.0  0.0  0.0  0.0  0.0  0.0  0.0  0.0  0.0 ...  0.0  0.0  0.0  0.0   \n",
       "7  0.0  0.0  0.0  0.0  0.0  0.0  0.0  0.0  0.0  0.0 ...  0.0  0.0  0.0  0.0   \n",
       "8  0.0  0.0  0.0  0.0  0.0  0.0  0.0  0.0  0.0  0.0 ...  0.0  0.0  0.0  0.0   \n",
       "9  0.0  0.0  0.0  0.0  0.0  0.0  0.0  0.0  0.0  0.0 ...  0.0  0.0  0.0  0.0   \n",
       "\n",
       "   681  682       683  684  685  y  \n",
       "0  0.0  0.0  0.000000  0.0  0.0  0  \n",
       "1  0.0  0.0  0.000000  0.0  0.0  1  \n",
       "2  0.0  0.0  0.000000  0.0  0.0  1  \n",
       "3  0.0  0.0  0.000000  0.0  0.0  1  \n",
       "4  0.0  0.0  0.000000  0.0  0.0  1  \n",
       "5  0.0  0.0  0.000000  0.0  0.0  0  \n",
       "6  0.0  0.0  0.000000  0.0  0.0  1  \n",
       "7  0.0  0.0  0.000000  0.0  0.0  0  \n",
       "8  0.0  0.0  0.000000  0.0  0.0  1  \n",
       "9  0.0  0.0  0.193369  0.0  0.0  0  \n",
       "\n",
       "[10 rows x 687 columns]"
      ]
     },
     "execution_count": 20,
     "metadata": {},
     "output_type": "execute_result"
    }
   ],
   "source": [
    "# construct TF-IDF Matrix with true label column\n",
    "from sklearn.feature_extraction.text import TfidfVectorizer\n",
    "\n",
    "tfidf_vectorizer = TfidfVectorizer(lowercase=True, analyzer='word', stop_words=stop_words_set, max_df=0.8, min_df=0.01)\n",
    "Yelp_tfidf_vect_fit = tfidf_vectorizer.fit(Yelp_review_train['converted_review'])\n",
    "pickle.dump(Yelp_tfidf_vect_fit, open('Yelp_tfidf_vect_fit.pkl', 'wb'))\n",
    "Yelp_tfidf_vect_fit = pickle.load(open('Yelp_tfidf_vect_fit.pkl', 'rb'))\n",
    "tfidf_sparse = Yelp_tfidf_vect_fit.transform(Yelp_review_train['converted_review'])\n",
    "tfidf_dense = tfidf_sparse.todense(order=None, out=None)\n",
    "tfidf_dense = pd.DataFrame(tfidf_dense)\n",
    "tfidf_dense['y'] = Yelp_review_train['sentiment']\n",
    "tfidf_dense.head(10)"
   ]
  },
  {
   "cell_type": "markdown",
   "metadata": {},
   "source": [
    "The following is the vocabulary list (predictors) that we use to predict the sentiment of reviews."
   ]
  },
  {
   "cell_type": "code",
   "execution_count": 21,
   "metadata": {},
   "outputs": [
    {
     "data": {
      "text/plain": [
       "array(['10', '12', '15', '20', '25', '30', '40', '45', '50', 'able',\n",
       "       'absolutely', 'accommodate', 'actually', 'add', 'afternoon', 'ago',\n",
       "       'ahead', 'allow', 'amaze', 'amazing', 'ambiance', 'answer',\n",
       "       'apologize', 'apparently', 'appetizer', 'appreciate', 'area',\n",
       "       'arrive', 'asian', 'ask', 'atmosphere', 'attention', 'attentive',\n",
       "       'attitude', 'authentic', 'available', 'average', 'avocado',\n",
       "       'avoid', 'away', 'awesome', 'awful', 'bacon', 'bad', 'bag', 'bar',\n",
       "       'barely', 'bartender', 'base', 'basically', 'bbq', 'bean',\n",
       "       'beautiful', 'beef', 'beer', 'believe', 'best', 'big', 'birthday',\n",
       "       'bit', 'bite', 'black', 'bland', 'booth', 'bother', 'bottle',\n",
       "       'bowl', 'box', 'boyfriend', 'bread', 'break', 'breakfast', 'bring',\n",
       "       'broth', 'brown', 'brunch', 'buck', 'buffet', 'bun', 'burger',\n",
       "       'burrito', 'business', 'busy', 'butter', 'buy', 'cafe', 'cake',\n",
       "       'card', 'care', 'case', 'cash', 'casual', 'certainly', 'chain',\n",
       "       'chance', 'change', 'charge', 'cheap', 'check', 'cheese', 'chef',\n",
       "       'chicken', 'chili', 'chinese', 'chip', 'chocolate', 'choice',\n",
       "       'choose', 'city', 'clean', 'clear', 'clearly', 'close', 'club',\n",
       "       'cocktail', 'coffee', 'cold', 'combo', 'come', 'comfortable',\n",
       "       'compare', 'complain', 'complaint', 'completely', 'consider',\n",
       "       'continue', 'cook', 'cool', 'corn', 'corner', 'cost', 'counter',\n",
       "       'couple', 'course', 'cover', 'crab', 'crave', 'crazy', 'cream',\n",
       "       'creamy', 'crispy', 'crowd', 'crust', 'cup', 'curry', 'customer',\n",
       "       'cut', 'cute', 'dark', 'date', 'daughter', 'day', 'deal', 'decent',\n",
       "       'decide', 'decor', 'definitely', 'delicious', 'deliver',\n",
       "       'delivery', 'desert', 'despite', 'dessert', 'die', 'different',\n",
       "       'din', 'diner', 'dining', 'dinner', 'dip', 'dirty', 'disappoint',\n",
       "       'disappointed', 'disappointing', 'disappointment', 'disgust',\n",
       "       'dish', 'dog', 'dollar', 'door', 'downtown', 'dress', 'drink',\n",
       "       'drive', 'drop', 'dry', 'early', 'easily', 'easy', 'eat', 'egg',\n",
       "       'employee', 'end', 'enjoy', 'entire', 'entree', 'especially',\n",
       "       'establishment', 'evening', 'exactly', 'excellent', 'excite',\n",
       "       'expect', 'expectation', 'expensive', 'experience', 'explain',\n",
       "       'extra', 'extremely', 'eye', 'face', 'fact', 'fair', 'fairly',\n",
       "       'family', 'fan', 'fancy', 'fantastic', 'far', 'fast', 'favorite',\n",
       "       'feel', 'felt', 'figure', 'finally', 'fine', 'finish', 'fish',\n",
       "       'fix', 'flavor', 'flavorful', 'flavour', 'floor', 'food',\n",
       "       'forever', 'forget', 'forward', 'free', 'french', 'fresh',\n",
       "       'friday', 'fried', 'friend', 'friendly', 'frozen', 'fruit', 'fry',\n",
       "       'fun', 'game', 'garlic', 'gem', 'generous', 'girl', 'glad',\n",
       "       'glass', 'good', 'grab', 'greasy', 'great', 'green', 'greet',\n",
       "       'grill', 'grilled', 'gross', 'group', 'guess', 'guest', 'guy',\n",
       "       'half', 'hand', 'hang', 'happen', 'happy', 'hard', 'hate', 'head',\n",
       "       'healthy', 'hear', 'heat', 'help', 'helpful', 'high', 'highly',\n",
       "       'hit', 'hold', 'home', 'homemade', 'honestly', 'hop', 'hope',\n",
       "       'horrible', 'hostess', 'hot', 'hotel', 'hour', 'house', 'huge',\n",
       "       'hungry', 'husband', 'ice', 'idea', 'immediately', 'impress',\n",
       "       'impressed', 'include', 'incredible', 'ingredient', 'inside',\n",
       "       'instead', 'issue', 'italian', 'item', 'job', 'joint', 'juice',\n",
       "       'juicy', 'kid', 'kind', 'kitchen', 'know', 'la', 'lack', 'lady',\n",
       "       'lamb', 'large', 'late', 'later', 'leave', 'lemon', 'let',\n",
       "       'lettuce', 'level', 'life', 'light', 'like', 'line', 'list',\n",
       "       'literally', 'little', 'live', 'lobster', 'local', 'locate',\n",
       "       'location', 'lol', 'long', 'look', 'lose', 'lot', 'loud', 'love',\n",
       "       'lovely', 'low', 'lunch', 'mac', 'main', 'make', 'man',\n",
       "       'management', 'manager', 'margarita', 'matter', 'maybe', 'meal',\n",
       "       'mean', 'meat', 'mediocre', 'medium', 'meet', 'melt', 'mention',\n",
       "       'menu', 'mess', 'mexican', 'middle', 'min', 'mind', 'minute',\n",
       "       'miss', 'mistake', 'mix', 'mixed', 'mom', 'money', 'month',\n",
       "       'morning', 'mouth', 'mushroom', 'music', 'near', 'need',\n",
       "       'neighborhood', 'new', 'nice', 'night', 'noodle', 'normally',\n",
       "       'note', 'notice', 'number', 'obviously', 'offer', 'oh', 'oil',\n",
       "       'ok', 'okay', 'old', 'onion', 'open', 'opinion', 'option', 'order',\n",
       "       'outside', 'outstanding', 'overall', 'overprice', 'owner', 'pack',\n",
       "       'pancake', 'park', 'parking', 'party', 'pass', 'past', 'pasta',\n",
       "       'patio', 'pay', 'people', 'pepper', 'perfect', 'perfection',\n",
       "       'perfectly', 'person', 'pho', 'phoenix', 'phone', 'pick',\n",
       "       'picture', 'pie', 'piece', 'pizza', 'place', 'plain', 'plan',\n",
       "       'plate', 'play', 'pleasant', 'plenty', 'plus', 'point', 'poor',\n",
       "       'pork', 'portion', 'potato', 'prefer', 'prepare', 'presentation',\n",
       "       'pretty', 'price', 'pricey', 'probably', 'problem', 'provide',\n",
       "       'pull', 'quality', 'question', 'quick', 'quickly', 'quite', 'rare',\n",
       "       'rating', 'read', 'ready', 'real', 'realize', 'really', 'reason',\n",
       "       'reasonable', 'receive', 'recently', 'recommend', 'recommendation',\n",
       "       'red', 'refill', 'regular', 'remember', 'remind', 'request',\n",
       "       'reservation', 'rest', 'restaurant', 'return', 'review', 'rib',\n",
       "       'rice', 'right', 'roast', 'rock', 'roll', 'room', 'rude', 'run',\n",
       "       'rush', 'sad', 'salad', 'salmon', 'salsa', 'salt', 'salty',\n",
       "       'sandwich', 'satisfy', 'saturday', 'sauce', 'sausage', 'save',\n",
       "       'saw', 'say', 'seafood', 'season', 'seat', 'seating', 'second',\n",
       "       'selection', 'send', 'seriously', 'serve', 'server', 'service',\n",
       "       'set', 'share', 'shop', 'short', 'shrimp', 'sign', 'simple',\n",
       "       'simply', 'single', 'sit', 'size', 'slice', 'slightly', 'slow',\n",
       "       'small', 'smell', 'smile', 'smoke', 'soft', 'soggy', 'solid',\n",
       "       'son', 'soon', 'sorry', 'sort', 'sound', 'soup', 'sour', 'space',\n",
       "       'speak', 'special', 'spend', 'spice', 'spicy', 'split', 'spot',\n",
       "       'spring', 'staff', 'stand', 'standard', 'star', 'start', 'state',\n",
       "       'stay', 'steak', 'stick', 'stop', 'store', 'street', 'strip',\n",
       "       'stuff', 'style', 'suck', 'suggest', 'sunday', 'super', 'suppose',\n",
       "       'sure', 'surprise', 'sushi', 'sweet', 'table', 'taco', 'talk',\n",
       "       'taste', 'tasty', 'tea', 'tell', 'tender', 'terrible', 'texture',\n",
       "       'thai', 'thank', 'thanks', 'thing', 'think', 'throw', 'time',\n",
       "       'tiny', 'tip', 'toast', 'today', 'tomato', 'ton', 'tonight',\n",
       "       'topping', 'toronto', 'tortilla', 'total', 'totally', 'touch',\n",
       "       'town', 'traditional', 'treat', 'trip', 'truly', 'try', 'tuna',\n",
       "       'turn', 'tv', 'twice', 'type', 'typical', 'understand',\n",
       "       'unfortunately', 'unique', 'unless', 'use', 'usual', 'usually',\n",
       "       'value', 'variety', 'vega', 'vegas', 'vegetable', 'vegetarian',\n",
       "       'veggie', 'vibe', 'view', 'visit', 'waffle', 'wait', 'waiter',\n",
       "       'waitress', 'walk', 'wall', 'want', 'warm', 'waste', 'watch',\n",
       "       'water', 'way', 'week', 'weekend', 'weird', 'welcome', 'white',\n",
       "       'wife', 'window', 'wine', 'wing', 'wish', 'woman', 'wonderful',\n",
       "       'word', 'work', 'world', 'worth', 'wow', 'wrap', 'write', 'wrong',\n",
       "       'year', 'yelp', 'yes', 'young', 'yum', 'yummy'], dtype='<U14')"
      ]
     },
     "execution_count": 21,
     "metadata": {},
     "output_type": "execute_result"
    }
   ],
   "source": [
    "np.sort(list(Yelp_tfidf_vect_fit.vocabulary_.keys()))"
   ]
  },
  {
   "cell_type": "markdown",
   "metadata": {},
   "source": [
    "We can also check the weights (\"importance\") of each word in the dictionary, but it is hard to see why these words are important in classifying sentiment. "
   ]
  },
  {
   "cell_type": "code",
   "execution_count": 22,
   "metadata": {},
   "outputs": [
    {
     "data": {
      "text/html": [
       "<div>\n",
       "<style scoped>\n",
       "    .dataframe tbody tr th:only-of-type {\n",
       "        vertical-align: middle;\n",
       "    }\n",
       "\n",
       "    .dataframe tbody tr th {\n",
       "        vertical-align: top;\n",
       "    }\n",
       "\n",
       "    .dataframe thead th {\n",
       "        text-align: right;\n",
       "    }\n",
       "</style>\n",
       "<table border=\"1\" class=\"dataframe\">\n",
       "  <thead>\n",
       "    <tr style=\"text-align: right;\">\n",
       "      <th></th>\n",
       "      <th>weights</th>\n",
       "    </tr>\n",
       "  </thead>\n",
       "  <tbody>\n",
       "    <tr>\n",
       "      <th>50</th>\n",
       "      <td>5.604815</td>\n",
       "    </tr>\n",
       "    <tr>\n",
       "      <th>apparently</th>\n",
       "      <td>5.604475</td>\n",
       "    </tr>\n",
       "    <tr>\n",
       "      <th>fancy</th>\n",
       "      <td>5.603709</td>\n",
       "    </tr>\n",
       "    <tr>\n",
       "      <th>club</th>\n",
       "      <td>5.601161</td>\n",
       "    </tr>\n",
       "    <tr>\n",
       "      <th>answer</th>\n",
       "      <td>5.600483</td>\n",
       "    </tr>\n",
       "    <tr>\n",
       "      <th>presentation</th>\n",
       "      <td>5.597267</td>\n",
       "    </tr>\n",
       "    <tr>\n",
       "      <th>ahead</th>\n",
       "      <td>5.597098</td>\n",
       "    </tr>\n",
       "    <tr>\n",
       "      <th>daughter</th>\n",
       "      <td>5.596845</td>\n",
       "    </tr>\n",
       "    <tr>\n",
       "      <th>allow</th>\n",
       "      <td>5.593388</td>\n",
       "    </tr>\n",
       "    <tr>\n",
       "      <th>lemon</th>\n",
       "      <td>5.589441</td>\n",
       "    </tr>\n",
       "    <tr>\n",
       "      <th>hate</th>\n",
       "      <td>5.588938</td>\n",
       "    </tr>\n",
       "    <tr>\n",
       "      <th>satisfy</th>\n",
       "      <td>5.587933</td>\n",
       "    </tr>\n",
       "    <tr>\n",
       "      <th>desert</th>\n",
       "      <td>5.586010</td>\n",
       "    </tr>\n",
       "    <tr>\n",
       "      <th>booth</th>\n",
       "      <td>5.584090</td>\n",
       "    </tr>\n",
       "    <tr>\n",
       "      <th>afternoon</th>\n",
       "      <td>5.583173</td>\n",
       "    </tr>\n",
       "  </tbody>\n",
       "</table>\n",
       "</div>"
      ],
      "text/plain": [
       "               weights\n",
       "50            5.604815\n",
       "apparently    5.604475\n",
       "fancy         5.603709\n",
       "club          5.601161\n",
       "answer        5.600483\n",
       "presentation  5.597267\n",
       "ahead         5.597098\n",
       "daughter      5.596845\n",
       "allow         5.593388\n",
       "lemon         5.589441\n",
       "hate          5.588938\n",
       "satisfy       5.587933\n",
       "desert        5.586010\n",
       "booth         5.584090\n",
       "afternoon     5.583173"
      ]
     },
     "execution_count": 22,
     "metadata": {},
     "output_type": "execute_result"
    }
   ],
   "source": [
    "term_weights = pd.DataFrame(Yelp_tfidf_vect_fit.idf_, np.sort(list(Yelp_tfidf_vect_fit.vocabulary_.keys())))\n",
    "term_weights = term_weights.rename(columns={0: 'weights'})\n",
    "top_term_weights = term_weights.sort_values(by=['weights'], ascending=False).head(15)\n",
    "bot_term_weights = term_weights.sort_values(by=['weights'], ascending=True).head(15)\n",
    "top_term_weights"
   ]
  },
  {
   "cell_type": "markdown",
   "metadata": {},
   "source": [
    "We implement a random forest machine learning algorithm on this *tfidf_dense* matrix. We use 5-fold cross validation to see if RandomForestClassifier with default parameter setting works well. This also takes a very long time, so we will not run it here, but the 5-fold cross validation average accuracy we obtained, and each iteration, is seen below."
   ]
  },
  {
   "cell_type": "code",
   "execution_count": 23,
   "metadata": {},
   "outputs": [
    {
     "name": "stdout",
     "output_type": "stream",
     "text": [
      "[0.88559847 0.88595188 0.8859301  0.8845335  0.88475917]\n",
      "5-fold cross validation average accuracy: 0.885\n"
     ]
    }
   ],
   "source": [
    "# computation of 5-fold cross validation score\n",
    "from sklearn import model_selection\n",
    "from sklearn.ensemble import RandomForestClassifier\n",
    "from sklearn.model_selection import cross_val_score\n",
    "kfold = model_selection.KFold(n_splits=5, random_state=1, shuffle=True) # 5 fold CV\n",
    "modelCV = RandomForestClassifier(n_estimators=10)\n",
    "scoring = 'accuracy'\n",
    "tfidf_dense_X = tfidf_dense.iloc[:,:-1]\n",
    "tfidf_dense_y = tfidf_dense.iloc[:,-1]\n",
    "results = model_selection.cross_val_score(modelCV, tfidf_dense_X, tfidf_dense_y, cv=kfold, scoring=scoring)\n",
    "print(results)\n",
    "print(\"5-fold cross validation average accuracy: %.3f\" % (results.mean()))"
   ]
  },
  {
   "cell_type": "markdown",
   "metadata": {},
   "source": [
    "We fit random forest classifier on train data. And again, we pickled this random forest fit as *Yelp_tfidf_rf_fit.pkl*."
   ]
  },
  {
   "cell_type": "code",
   "execution_count": 24,
   "metadata": {},
   "outputs": [],
   "source": [
    "from sklearn.ensemble import RandomForestClassifier\n",
    "from sklearn.model_selection import train_test_split\n",
    "\n",
    "rf_classifier = RandomForestClassifier(n_estimators=10)\n",
    "\n",
    "tfidf_dense_X = tfidf_dense.iloc[:,:-1]\n",
    "tfidf_dense_y = tfidf_dense.iloc[:,-1]\n",
    "\n",
    "np.random.seed(1)\n",
    "X_train, X_test, y_train, y_test = train_test_split(tfidf_dense_X, tfidf_dense_y, test_size=0.2)\n",
    "Yelp_tfidf_rf_fit = rf_classifier.fit(X_train, y_train)\n",
    "pickle.dump(Yelp_tfidf_rf_fit, open('Yelp_tfidf_rf_fit.pkl', 'wb'))\n",
    "Yelp_tfidf_rf_fit = pickle.load(open('Yelp_tfidf_rf_fit.pkl', 'rb'))"
   ]
  },
  {
   "cell_type": "markdown",
   "metadata": {},
   "source": [
    "Let's compute some basic scores."
   ]
  },
  {
   "cell_type": "code",
   "execution_count": 25,
   "metadata": {},
   "outputs": [
    {
     "data": {
      "text/plain": [
       "0.11495505775855094"
      ]
     },
     "execution_count": 25,
     "metadata": {},
     "output_type": "execute_result"
    }
   ],
   "source": [
    "# misclassification rate\n",
    "len(np.where(y_test != Yelp_tfidf_rf_fit.predict(X_test))[0]) / len(y_test)"
   ]
  },
  {
   "cell_type": "code",
   "execution_count": 26,
   "metadata": {},
   "outputs": [
    {
     "data": {
      "text/plain": [
       "0.885044942241449"
      ]
     },
     "execution_count": 26,
     "metadata": {},
     "output_type": "execute_result"
    }
   ],
   "source": [
    "# mean accuracy of the model\n",
    "Yelp_tfidf_rf_fit.score(X_test, y_test)"
   ]
  },
  {
   "cell_type": "code",
   "execution_count": 27,
   "metadata": {},
   "outputs": [
    {
     "data": {
      "image/png": "[encoded data removed]",
      "text/plain": [
       "<Figure size 432x288 with 1 Axes>"
      ]
     },
     "metadata": {
      "needs_background": "light"
     },
     "output_type": "display_data"
    }
   ],
   "source": [
    "# ROC curve\n",
    "from sklearn import metrics\n",
    "prob_value = Yelp_tfidf_rf_fit.predict_proba(X_test)[:,1]\n",
    "fpr, tpr, thresholds = metrics.roc_curve(y_test, prob_value)\n",
    "plt.plot(fpr, tpr, color='darkorange')\n",
    "plt.plot([0,1], [0,1], color='navy', linestyle='--')\n",
    "plt.suptitle('ROC Curve')\n",
    "plt.xlabel('False Positive Rate')\n",
    "plt.ylabel('True Positive Rate')\n",
    "plt.show()"
   ]
  },
  {
   "cell_type": "code",
   "execution_count": 28,
   "metadata": {},
   "outputs": [
    {
     "data": {
      "text/plain": [
       "0.8806551813010779"
      ]
     },
     "execution_count": 28,
     "metadata": {},
     "output_type": "execute_result"
    }
   ],
   "source": [
    "# AUC\n",
    "from sklearn.metrics import roc_auc_score\n",
    "roc_auc_score(y_test, Yelp_tfidf_rf_fit.predict(X_test))"
   ]
  },
  {
   "cell_type": "code",
   "execution_count": 29,
   "metadata": {},
   "outputs": [
    {
     "data": {
      "text/plain": [
       "0.8853017788202752"
      ]
     },
     "execution_count": 29,
     "metadata": {},
     "output_type": "execute_result"
    }
   ],
   "source": [
    "# F1 score\n",
    "from sklearn.metrics import f1_score\n",
    "f1_score(y_test, Yelp_tfidf_rf_fit.predict(X_test), average='weighted')"
   ]
  },
  {
   "cell_type": "markdown",
   "metadata": {},
   "source": [
    "Now we apply our model to the test set. Again, we use pickle."
   ]
  },
  {
   "cell_type": "code",
   "execution_count": 30,
   "metadata": {},
   "outputs": [],
   "source": [
    "# transform text data in test set\n",
    "Yelp_review_test['converted_review'] = Yelp_review_test['review'].str.lower()\n",
    "converted_review = list(Yelp_review_test['converted_review'])\n",
    "converted_review = [remove_special_characters(sentence) for sentence in converted_review]\n",
    "Yelp_review_test['converted_review'] = pd.Series(converted_review)\n",
    "\n",
    "pickle.dump(Yelp_review_test, open('Yelp_review_test.pkl', 'wb'))\n",
    "Yelp_review_test = pickle.load(open('Yelp_review_test.pkl', 'rb'))"
   ]
  },
  {
   "cell_type": "code",
   "execution_count": 31,
   "metadata": {},
   "outputs": [],
   "source": [
    "# construct TF-IDF matrix with true label column\n",
    "tfidf_sparse = Yelp_tfidf_vect_fit.transform(Yelp_review_test['converted_review'])\n",
    "tfidf_dense = tfidf_sparse.todense(order=None, out=None)\n",
    "tfidf_dense = pd.DataFrame(tfidf_dense)\n",
    "tfidf_dense['y'] = Yelp_review_test['sentiment']"
   ]
  },
  {
   "cell_type": "code",
   "execution_count": 32,
   "metadata": {},
   "outputs": [
    {
     "data": {
      "text/plain": [
       "0.12891259695269627"
      ]
     },
     "execution_count": 32,
     "metadata": {},
     "output_type": "execute_result"
    }
   ],
   "source": [
    "# misclassification rate\n",
    "X_test = tfidf_dense.iloc[:,:-1]\n",
    "y_test = tfidf_dense.iloc[:,-1]\n",
    "Yelp_tf_error = len(np.where(y_test != Yelp_tfidf_rf_fit.predict(X_test))[0]) / len(y_test)\n",
    "Yelp_tf_error"
   ]
  },
  {
   "cell_type": "code",
   "execution_count": 33,
   "metadata": {},
   "outputs": [
    {
     "data": {
      "text/plain": [
       "0.8710874030473037"
      ]
     },
     "execution_count": 33,
     "metadata": {},
     "output_type": "execute_result"
    }
   ],
   "source": [
    "# mean accuracy of the model\n",
    "Yelp_tfidf_rf_fit.score(X_test, y_test)"
   ]
  },
  {
   "cell_type": "code",
   "execution_count": 34,
   "metadata": {},
   "outputs": [
    {
     "data": {
      "image/png": "[encoded data removed]",
      "text/plain": [
       "<Figure size 432x288 with 1 Axes>"
      ]
     },
     "metadata": {
      "needs_background": "light"
     },
     "output_type": "display_data"
    }
   ],
   "source": [
    "# ROC curve\n",
    "prob_value = Yelp_tfidf_rf_fit.predict_proba(X_test)[:,1]\n",
    "fpr, tpr, thresholds = metrics.roc_curve(y_test, prob_value)\n",
    "plt.plot(fpr, tpr, color='darkorange')\n",
    "plt.plot([0,1], [0,1], color='navy', linestyle='--')\n",
    "plt.suptitle('Yelp Review ROC Curve (TF-IDF)')\n",
    "plt.xlabel('False Positive Rate')\n",
    "plt.ylabel('True Positive Rate')\n",
    "plt.show()"
   ]
  },
  {
   "cell_type": "code",
   "execution_count": 35,
   "metadata": {},
   "outputs": [
    {
     "data": {
      "text/plain": [
       "0.8588675604858538"
      ]
     },
     "execution_count": 35,
     "metadata": {},
     "output_type": "execute_result"
    }
   ],
   "source": [
    "# AUC\n",
    "Yelp_tf_auc = roc_auc_score(y_test, Yelp_tfidf_rf_fit.predict(X_test))\n",
    "Yelp_tf_auc"
   ]
  },
  {
   "cell_type": "code",
   "execution_count": 36,
   "metadata": {},
   "outputs": [
    {
     "data": {
      "text/plain": [
       "0.8704492765019897"
      ]
     },
     "execution_count": 36,
     "metadata": {},
     "output_type": "execute_result"
    }
   ],
   "source": [
    "# F1 score\n",
    "Yelp_tf_f1 = f1_score(y_test, Yelp_tfidf_rf_fit.predict(X_test), average='weighted')\n",
    "Yelp_tf_f1"
   ]
  },
  {
   "cell_type": "markdown",
   "metadata": {},
   "source": [
    "### 1.1 Further Investigation on TF-IDF Model\n",
    "Since random forest classifier is a sort of black-box model, it is not easy to dig deeper inside the model. We choose to try topic modeling on misclassified (false positive and false negative separately) reviews. Firstly, we pickle false positive and false negative reviews into *review_fp* and *review_fn*."
   ]
  },
  {
   "cell_type": "code",
   "execution_count": 37,
   "metadata": {},
   "outputs": [],
   "source": [
    "misclass_indices = np.where(y_test != Yelp_tfidf_rf_fit.predict(X_test))[0]\n",
    "\n",
    "review_misclass_indices = y_test.index[misclass_indices].tolist()\n",
    "review_misclass = Yelp_review_test.iloc[review_misclass_indices]\n",
    "\n",
    "review_fp = review_misclass[review_misclass['sentiment'] == 0]\n",
    "review_fn = review_misclass[review_misclass['sentiment'] == 1]"
   ]
  },
  {
   "cell_type": "markdown",
   "metadata": {},
   "source": [
    "### 1.1.1 False Positive\n",
    "We look into randomly picked 2000 reviews instead of the entire false positive reviews for simplicity."
   ]
  },
  {
   "cell_type": "code",
   "execution_count": 38,
   "metadata": {},
   "outputs": [],
   "source": [
    "tmp_indices = review_fp.index.tolist()\n",
    "np.random.seed(1)\n",
    "np.random.shuffle(tmp_indices)\n",
    "\n",
    "tmp_indices = tmp_indices[0:2000]\n",
    "sub_review = review_fp.loc[tmp_indices,:].reset_index(drop=True)"
   ]
  },
  {
   "cell_type": "code",
   "execution_count": 39,
   "metadata": {},
   "outputs": [],
   "source": [
    "#! wget https://raw.githubusercontent.com/dipanjanS/text-analytics-with-python/master/Chapter-4/feature_extractors.py"
   ]
  },
  {
   "cell_type": "markdown",
   "metadata": {},
   "source": [
    "The following code is to get the matrix X that will be used for non-negative matrix factorization."
   ]
  },
  {
   "cell_type": "code",
   "execution_count": 40,
   "metadata": {},
   "outputs": [],
   "source": [
    "def tokenize_text(text):\n",
    "    tokens = nltk.word_tokenize(text) \n",
    "    tokens = [token.strip() for token in tokens]\n",
    "    return tokens\n",
    "\n",
    "from sklearn.feature_extraction.stop_words import ENGLISH_STOP_WORDS\n",
    "from nltk.corpus import stopwords\n",
    "\n",
    "stop_words_set = list(list(ENGLISH_STOP_WORDS) + stopwords.words('english'))\n",
    "stop_words_set = list(np.unique(stop_words_set))\n",
    "\n",
    "def remove_stopwords(text,stopword_list):\n",
    "    tokens = tokenize_text(text)\n",
    "    filtered_tokens = [token for token in tokens if token not in stopword_list]\n",
    "    filtered_text = ' '.join(filtered_tokens)    \n",
    "    return filtered_text\n",
    "\n",
    "text = [remove_stopwords(rev, stop_words_set) for rev in sub_review['converted_review']]\n",
    "\n",
    "from feature_extractors import tfidf_transformer\n",
    "from feature_extractors import bow_extractor    \n",
    "\n",
    "def tf_idf(corpus):\n",
    "    # bag of words construction\n",
    "    bow_vectorizer, bow_features = bow_extractor(corpus=corpus)\n",
    "    # feature names\n",
    "    feature_names = bow_vectorizer.get_feature_names()\n",
    "    # TF-IDF    \n",
    "    tfidf_trans, tdidf_features = tfidf_transformer(bow_features)\n",
    "    tdidf_features = np.round(tdidf_features.todense(),2)\n",
    "    return((tdidf_features, feature_names))\n",
    "\n",
    "tdidf_features,feature_names = tf_idf(text)\n",
    "\n",
    "X = tdidf_features.T"
   ]
  },
  {
   "cell_type": "markdown",
   "metadata": {},
   "source": [
    "For non-negative matrix factorization, we choose r to be 10."
   ]
  },
  {
   "cell_type": "code",
   "execution_count": 41,
   "metadata": {},
   "outputs": [
    {
     "name": "stdout",
     "output_type": "stream",
     "text": [
      "# Topic 0\n",
      "place 0.6294026668076229\n",
      "like 0.42969058941855875\n",
      "dont 0.33718908205672027\n",
      "really 0.29367811221414913\n",
      "bar 0.28296579113256726\n",
      "ive 0.2472543115713083\n",
      "great 0.2205481460823785\n",
      "people 0.21396849005259638\n",
      "im 0.21154823697711742\n",
      "want 0.19750870797578698\n",
      "\n",
      "\n",
      "# Topic 1\n",
      "pizza 1.7464189117072482\n",
      "crust 0.24688393325326383\n",
      "pepperoni 0.17591045958848392\n",
      "good 0.14722228494741008\n",
      "slice 0.14028908375101565\n",
      "cheese 0.1332364393214716\n",
      "sauce 0.13250674838150342\n",
      "toppings 0.1160334987331845\n",
      "delivery 0.10333749043158613\n",
      "wings 0.09577551265512728\n",
      "\n",
      "\n",
      "# Topic 2\n",
      "chicken 1.4931381271130364\n",
      "ordered 0.20767620767322956\n",
      "fried 0.19779351662888997\n",
      "sauce 0.1890706702203802\n",
      "sandwich 0.12123961527607792\n",
      "rice 0.1160965673457267\n",
      "pieces 0.10308521645294488\n",
      "dry 0.10058530646070757\n",
      "best 0.09925214585295936\n",
      "like 0.09829324598007284\n",
      "\n",
      "\n",
      "# Topic 3\n",
      "minutes 0.7437435086507787\n",
      "table 0.5101314890256277\n",
      "time 0.47264651109620004\n",
      "order 0.43952892974546515\n",
      "wait 0.43673986464745174\n",
      "asked 0.4057716416460181\n",
      "took 0.3853838760691468\n",
      "server 0.3257471050090006\n",
      "came 0.32467563349407874\n",
      "waited 0.29108661277313747\n",
      "\n",
      "\n",
      "# Topic 4\n",
      "sushi 1.5173853014350334\n",
      "rolls 0.2628572243098213\n",
      "roll 0.2227182327176242\n",
      "ayce 0.15210558862045442\n",
      "special 0.13580934802469205\n",
      "chef 0.11462989637158269\n",
      "great 0.11128306549120827\n",
      "fresh 0.10257018444025634\n",
      "fish 0.09850339118277224\n",
      "restaurant 0.0953999253542247\n",
      "\n",
      "\n",
      "# Topic 5\n",
      "burger 1.0389312606922376\n",
      "fries 0.7174742931829462\n",
      "burgers 0.3312917427807531\n",
      "sandwich 0.28968008373397375\n",
      "hot 0.14145182092221728\n",
      "order 0.13182840466070248\n",
      "patty 0.12868796341230462\n",
      "try 0.11328620692694093\n",
      "little 0.09807662471202275\n",
      "special 0.09709871725202304\n",
      "\n",
      "\n",
      "# Topic 6\n",
      "food 1.008541013121714\n",
      "good 0.6982091757209471\n",
      "service 0.6138372007036024\n",
      "great 0.2411685590296559\n",
      "price 0.1552500812051028\n",
      "place 0.15139401506335384\n",
      "atmosphere 0.14577516852568756\n",
      "quality 0.14509092142732252\n",
      "better 0.13686784342499875\n",
      "pretty 0.12317960938225937\n",
      "\n",
      "\n",
      "# Topic 7\n",
      "salad 0.4321758222931424\n",
      "ordered 0.42581890994633936\n",
      "steak 0.34285234505643913\n",
      "cheese 0.298309223446636\n",
      "tacos 0.29367844971269547\n",
      "got 0.25626127187278275\n",
      "meal 0.2487884801945357\n",
      "shrimp 0.24696258584841804\n",
      "sauce 0.23107938314603027\n",
      "like 0.21736534825737916\n",
      "\n",
      "\n",
      "# Topic 8\n",
      "buffet 1.3716108279973407\n",
      "better 0.31689137706722953\n",
      "vegas 0.2535121754487709\n",
      "best 0.19455480955035584\n",
      "chinese 0.17950664090734722\n",
      "selection 0.16643206858528928\n",
      "price 0.16099676146164402\n",
      "cheap 0.14742283360033387\n",
      "try 0.14360550729583457\n",
      "worst 0.14332774091926287\n",
      "\n",
      "\n",
      "# Topic 9\n",
      "thai 1.2844764006482563\n",
      "pad 0.620008414123374\n",
      "curry 0.3139909862298672\n",
      "restaurant 0.23989983923444133\n",
      "rice 0.22044962995648557\n",
      "dish 0.19956964251206372\n",
      "dishes 0.17239759381914949\n",
      "used 0.15119406130564506\n",
      "beef 0.14679734400751862\n",
      "menu 0.1450389021556654\n",
      "\n",
      "\n"
     ]
    },
    {
     "name": "stderr",
     "output_type": "stream",
     "text": [
      "/Library/Frameworks/Python.framework/Versions/3.7/lib/python3.7/site-packages/ipykernel_launcher.py:16: RuntimeWarning: invalid value encountered in true_divide\n",
      "  app.launch_new_instance()\n"
     ]
    }
   ],
   "source": [
    "# Non-negative Matrix Factorization\n",
    "def non_negative_marix_decomp(n_components,train_data):\n",
    "    import sklearn.decomposition as skld\n",
    "    model = skld.NMF(n_components=n_components, \n",
    "                     init='nndsvda', max_iter=500, \n",
    "                     random_state=0)\n",
    "    W = model.fit_transform(train_data)\n",
    "    H = model.components_\n",
    "    nmf = (W,H)\n",
    "    return(nmf)\n",
    "\n",
    "r = 10\n",
    "W_topic10,H_topic10 = \\\n",
    "    non_negative_marix_decomp(n_components = r, train_data = X) \n",
    "\n",
    "H_topic10 /= H_topic10.sum(0)\n",
    "\n",
    "num_top_words = 10\n",
    "num_topics = 10\n",
    "word_topic = W_topic10\n",
    "fontsize_base = 15\n",
    "\n",
    "for t in range(0, num_topics):\n",
    "    top_words_idx = np.argsort(word_topic[:,t])[::-1]  # descending order\n",
    "    top_words_idx = top_words_idx[:num_top_words]\n",
    "    top_words = [feature_names[k] for k in top_words_idx]\n",
    "    top_words_shares = word_topic[top_words_idx, t]\n",
    "    print('# Topic', t)\n",
    "    for i, (word, share) in enumerate(zip(top_words, top_words_shares)):\n",
    "        print(word, share)\n",
    "    print('\\n')"
   ]
  },
  {
   "cell_type": "markdown",
   "metadata": {},
   "source": [
    "Most of the topics are related to the type of restaurants, but if we look at *Topic 0*, *Topic 3*, *Topic 7*, and *Topic 9*, they include positive words such as *good*, *great*, *better*, *quality*, *fresh*. This might be an indicator of misclassification, but we can't say for sure since negation (not, don't etc.) can flip the sentiment."
   ]
  },
  {
   "cell_type": "markdown",
   "metadata": {},
   "source": [
    "### 1.1.2 False Negative\n",
    "We repeat the procedure above for false negative reviews."
   ]
  },
  {
   "cell_type": "code",
   "execution_count": 42,
   "metadata": {},
   "outputs": [
    {
     "name": "stdout",
     "output_type": "stream",
     "text": [
      "# Topic 0\n",
      "came 0.2987651388788765\n",
      "ordered 0.29050245444980394\n",
      "time 0.2876732253448392\n",
      "order 0.2789330979005402\n",
      "got 0.2591881277403888\n",
      "server 0.24345793306074268\n",
      "wait 0.23562896967965885\n",
      "table 0.23521765000263178\n",
      "minutes 0.2135750720931111\n",
      "didnt 0.20688015098642257\n",
      "\n",
      "\n",
      "# Topic 1\n",
      "pizza 1.6004055836985658\n",
      "crust 0.26410399984731386\n",
      "wings 0.15054503575155453\n",
      "cheese 0.13359979200291608\n",
      "slice 0.12436563595334175\n",
      "order 0.12146619785442896\n",
      "sauce 0.11413071544567523\n",
      "chicago 0.11336244333913563\n",
      "pie 0.11096210555092084\n",
      "toppings 0.10481300802510143\n",
      "\n",
      "\n",
      "# Topic 2\n",
      "chicken 1.1882767200691045\n",
      "rice 0.5100343159868886\n",
      "fried 0.38833003650363823\n",
      "salad 0.2267201950793403\n",
      "soup 0.22522909638864247\n",
      "beef 0.2236416024236594\n",
      "spicy 0.22156696410004156\n",
      "pork 0.2101607693046045\n",
      "ordered 0.18767374589445043\n",
      "sauce 0.17056732495986066\n",
      "\n",
      "\n",
      "# Topic 3\n",
      "food 1.3625561382687315\n",
      "buffet 0.3267388120224064\n",
      "thai 0.29722261084167906\n",
      "chinese 0.2713801076999426\n",
      "mexican 0.20114281587651808\n",
      "quality 0.17733623744673893\n",
      "indian 0.1496693131848066\n",
      "fast 0.14331680679824302\n",
      "restaurant 0.1325211993623292\n",
      "vegas 0.1308074117783177\n",
      "\n",
      "\n",
      "# Topic 4\n",
      "sushi 1.3593219730528678\n",
      "fish 0.2623729842228497\n",
      "roll 0.2469111931594147\n",
      "rolls 0.23802884916681608\n",
      "ayce 0.20895506083702137\n",
      "eat 0.16115607016960148\n",
      "sashimi 0.1447347338755031\n",
      "fresh 0.1330983427841554\n",
      "soup 0.13221365085428033\n",
      "salmon 0.11068460951519679\n",
      "\n",
      "\n",
      "# Topic 5\n",
      "good 1.5871069079583648\n",
      "really 0.532939756421681\n",
      "bad 0.43849706150193907\n",
      "pretty 0.2825584968113201\n",
      "like 0.26859571363290974\n",
      "steak 0.23517485869776186\n",
      "service 0.21665422829853373\n",
      "coffee 0.194001194469939\n",
      "pho 0.19058407458565077\n",
      "prices 0.13462915433792758\n",
      "\n",
      "\n",
      "# Topic 6\n",
      "place 1.5738543384022017\n",
      "nice 0.23444495382331207\n",
      "youre 0.21769233124823387\n",
      "eat 0.21231129000015586\n",
      "worth 0.20772085357631734\n",
      "definitely 0.1902010933307696\n",
      "bar 0.18066489054997784\n",
      "friends 0.17726199864138725\n",
      "little 0.14642059006119737\n",
      "ok 0.12964853741711335\n",
      "\n",
      "\n",
      "# Topic 7\n",
      "great 1.2551134220146458\n",
      "service 0.8801977781999433\n",
      "food 0.24437703238059472\n",
      "customer 0.2095939232767056\n",
      "disappointed 0.17950482392341496\n",
      "better 0.15987665436049914\n",
      "fish 0.14796153843075965\n",
      "experience 0.1447645140896029\n",
      "atmosphere 0.13831797520037584\n",
      "excellent 0.13564317925420621\n",
      "\n",
      "\n",
      "# Topic 8\n",
      "burger 0.8761885762677337\n",
      "fries 0.7065230357662279\n",
      "burgers 0.27770199666416934\n",
      "cheese 0.26665447675301984\n",
      "bacon 0.13230699320892314\n",
      "beer 0.11481808474565337\n",
      "sweet 0.10923677431575139\n",
      "best 0.10726043200454986\n",
      "potato 0.1071656768627955\n",
      "soggy 0.09918150756665192\n",
      "\n",
      "\n",
      "# Topic 9\n",
      "ive 0.7341822992859178\n",
      "like 0.7002635161255356\n",
      "dont 0.626124018882733\n",
      "im 0.42514509389358124\n",
      "times 0.42118873665329565\n",
      "location 0.3975509660963996\n",
      "know 0.3746971998806871\n",
      "time 0.301050243220469\n",
      "better 0.2808579853369484\n",
      "staff 0.2599304230133056\n",
      "\n",
      "\n"
     ]
    }
   ],
   "source": [
    "tmp_indices = review_fn.index.tolist()\n",
    "np.random.seed(1)\n",
    "np.random.shuffle(tmp_indices)\n",
    "\n",
    "tmp_indices = tmp_indices[0:2000]\n",
    "sub_review = review_fn.loc[tmp_indices,:].reset_index(drop=True)\n",
    "\n",
    "text = [remove_stopwords(rev, stop_words_set) for rev in sub_review['converted_review']]\n",
    "tdidf_features,feature_names = tf_idf(text)\n",
    "X = tdidf_features.T\n",
    "\n",
    "r = 10\n",
    "W_topic10,H_topic10 = \\\n",
    "    non_negative_marix_decomp(n_components = r, train_data = X) \n",
    "\n",
    "H_topic10 /= H_topic10.sum(0)\n",
    "\n",
    "num_top_words = 10\n",
    "num_topics = 10\n",
    "word_topic = W_topic10\n",
    "fontsize_base = 15 # / np.max(word_topic) # font size for word with largest share in corpus\n",
    "\n",
    "for t in range(0, num_topics):\n",
    "    top_words_idx = np.argsort(word_topic[:,t])[::-1]  # descending order\n",
    "    top_words_idx = top_words_idx[:num_top_words]\n",
    "    top_words = [feature_names[k] for k in top_words_idx]\n",
    "    top_words_shares = word_topic[top_words_idx, t]\n",
    "    print('# Topic', t)\n",
    "    for i, (word, share) in enumerate(zip(top_words, top_words_shares)):\n",
    "        print(word, share)\n",
    "    print('\\n')"
   ]
  },
  {
   "cell_type": "markdown",
   "metadata": {},
   "source": [
    "In false negative reviews, it's even less clear. All the topics have positive words except \"didn't\" from *Topic 0*. This is not really helpful since it does not show any clue why these reviews were classified as negative. Clearly, it is not easy to break __TF-IDF Model__ down and investigate on what could possibly attribute misclassification."
   ]
  },
  {
   "cell_type": "markdown",
   "metadata": {
    "collapsed": true
   },
   "source": [
    "### 2. Parsimonious Rule-Based Model Approach\n",
    "Traditional machine learning algorithms take a lot of computational power for training data or parameter tuning. __Parsimonious Rule-Based Model__ is very different from TF-IDF matrix approach in many ways. First of all, it uses a gold-standard sentiment lexicon built from existing human-validated sentiment lexicons and evaluating the impact of grammatical/syntactical rules. Also, it uses data-driven iterative inductive coding analysis to identify generalizable heuristics for assessing sentiment in text. Thus, it requires no training data, which implies it is computationally effcient, yet the performance we obtained was not too far off from our __TF-IDF__ model."
   ]
  },
  {
   "cell_type": "code",
   "execution_count": 43,
   "metadata": {},
   "outputs": [],
   "source": [
    "VADER_Yelp_review = Yelp_review_test.copy()"
   ]
  },
  {
   "cell_type": "code",
   "execution_count": 44,
   "metadata": {},
   "outputs": [],
   "source": [
    "from vaderSentiment.vaderSentiment import SentimentIntensityAnalyzer\n",
    "analyzer = SentimentIntensityAnalyzer()\n",
    "def sentiment_analyzer(x):\n",
    "    x = analyzer.polarity_scores(x).get('compound')\n",
    "    return x\n",
    "VADER_Yelp_review['polarity_score'] = np.vectorize(sentiment_analyzer)(VADER_Yelp_review['review'])"
   ]
  },
  {
   "cell_type": "code",
   "execution_count": 45,
   "metadata": {},
   "outputs": [],
   "source": [
    "def normalize(x):\n",
    "    x = (x+1)/2\n",
    "    return x\n",
    "VADER_Yelp_review['normalized_polarity_score'] = np.vectorize(normalize)(VADER_Yelp_review['polarity_score'])\n",
    "\n",
    "def VADER_sentiment(x):\n",
    "    if x > 0.5:\n",
    "        y = 1\n",
    "    elif x == 0.5:\n",
    "        if np.random.uniform(0,1) >= 0.5:\n",
    "            y = 1\n",
    "        else:\n",
    "            y = 0\n",
    "    else:\n",
    "        y = 0\n",
    "    return y\n",
    "VADER_Yelp_review['predicted_sentiment'] = np.vectorize(VADER_sentiment)(VADER_Yelp_review['normalized_polarity_score'])"
   ]
  },
  {
   "cell_type": "code",
   "execution_count": 46,
   "metadata": {},
   "outputs": [
    {
     "data": {
      "text/html": [
       "<div>\n",
       "<style scoped>\n",
       "    .dataframe tbody tr th:only-of-type {\n",
       "        vertical-align: middle;\n",
       "    }\n",
       "\n",
       "    .dataframe tbody tr th {\n",
       "        vertical-align: top;\n",
       "    }\n",
       "\n",
       "    .dataframe thead th {\n",
       "        text-align: right;\n",
       "    }\n",
       "</style>\n",
       "<table border=\"1\" class=\"dataframe\">\n",
       "  <thead>\n",
       "    <tr style=\"text-align: right;\">\n",
       "      <th></th>\n",
       "      <th>review</th>\n",
       "      <th>rating</th>\n",
       "      <th>sentiment</th>\n",
       "      <th>converted_review</th>\n",
       "      <th>polarity_score</th>\n",
       "      <th>normalized_polarity_score</th>\n",
       "      <th>predicted_sentiment</th>\n",
       "    </tr>\n",
       "  </thead>\n",
       "  <tbody>\n",
       "    <tr>\n",
       "      <th>0</th>\n",
       "      <td>Walked here from staying at the Trump Towers a...</td>\n",
       "      <td>4</td>\n",
       "      <td>1</td>\n",
       "      <td>walked here from staying at the trump towers a...</td>\n",
       "      <td>0.8758</td>\n",
       "      <td>0.93790</td>\n",
       "      <td>1</td>\n",
       "    </tr>\n",
       "    <tr>\n",
       "      <th>1</th>\n",
       "      <td>I loved watching Koi Poke come to life.  The d...</td>\n",
       "      <td>5</td>\n",
       "      <td>1</td>\n",
       "      <td>i loved watching koi poke come to life  the de...</td>\n",
       "      <td>0.9813</td>\n",
       "      <td>0.99065</td>\n",
       "      <td>1</td>\n",
       "    </tr>\n",
       "    <tr>\n",
       "      <th>2</th>\n",
       "      <td>We have been coming here since they opened and...</td>\n",
       "      <td>5</td>\n",
       "      <td>1</td>\n",
       "      <td>we have been coming here since they opened and...</td>\n",
       "      <td>0.9971</td>\n",
       "      <td>0.99855</td>\n",
       "      <td>1</td>\n",
       "    </tr>\n",
       "    <tr>\n",
       "      <th>3</th>\n",
       "      <td>Oh Scott!! When is the last time you did quali...</td>\n",
       "      <td>2</td>\n",
       "      <td>0</td>\n",
       "      <td>oh scott when is the last time you did quality...</td>\n",
       "      <td>-0.9222</td>\n",
       "      <td>0.03890</td>\n",
       "      <td>0</td>\n",
       "    </tr>\n",
       "    <tr>\n",
       "      <th>4</th>\n",
       "      <td>I went here with a large group for a friend's ...</td>\n",
       "      <td>4</td>\n",
       "      <td>1</td>\n",
       "      <td>i went here with a large group for a friends b...</td>\n",
       "      <td>0.9907</td>\n",
       "      <td>0.99535</td>\n",
       "      <td>1</td>\n",
       "    </tr>\n",
       "    <tr>\n",
       "      <th>5</th>\n",
       "      <td>One star for conceive and well cooked veggies....</td>\n",
       "      <td>1</td>\n",
       "      <td>0</td>\n",
       "      <td>one star for conceive and well cooked veggies ...</td>\n",
       "      <td>-0.9879</td>\n",
       "      <td>0.00605</td>\n",
       "      <td>0</td>\n",
       "    </tr>\n",
       "    <tr>\n",
       "      <th>6</th>\n",
       "      <td>This is all around less than mediocre Mexican ...</td>\n",
       "      <td>1</td>\n",
       "      <td>0</td>\n",
       "      <td>this is all around less than mediocre mexican ...</td>\n",
       "      <td>0.7362</td>\n",
       "      <td>0.86810</td>\n",
       "      <td>1</td>\n",
       "    </tr>\n",
       "    <tr>\n",
       "      <th>7</th>\n",
       "      <td>My family loves this place. Everyone gets thei...</td>\n",
       "      <td>5</td>\n",
       "      <td>1</td>\n",
       "      <td>my family loves this place everyone gets their...</td>\n",
       "      <td>0.9245</td>\n",
       "      <td>0.96225</td>\n",
       "      <td>1</td>\n",
       "    </tr>\n",
       "    <tr>\n",
       "      <th>8</th>\n",
       "      <td>Where do I begin, already having a bad hotel s...</td>\n",
       "      <td>2</td>\n",
       "      <td>0</td>\n",
       "      <td>where do i begin already having a bad hotel st...</td>\n",
       "      <td>-0.5946</td>\n",
       "      <td>0.20270</td>\n",
       "      <td>0</td>\n",
       "    </tr>\n",
       "    <tr>\n",
       "      <th>9</th>\n",
       "      <td>The place is awesome, bartenders are amazing. ...</td>\n",
       "      <td>5</td>\n",
       "      <td>1</td>\n",
       "      <td>the place is awesome bartenders are amazing hi...</td>\n",
       "      <td>0.9500</td>\n",
       "      <td>0.97500</td>\n",
       "      <td>1</td>\n",
       "    </tr>\n",
       "  </tbody>\n",
       "</table>\n",
       "</div>"
      ],
      "text/plain": [
       "                                              review  rating  sentiment  \\\n",
       "0  Walked here from staying at the Trump Towers a...       4          1   \n",
       "1  I loved watching Koi Poke come to life.  The d...       5          1   \n",
       "2  We have been coming here since they opened and...       5          1   \n",
       "3  Oh Scott!! When is the last time you did quali...       2          0   \n",
       "4  I went here with a large group for a friend's ...       4          1   \n",
       "5  One star for conceive and well cooked veggies....       1          0   \n",
       "6  This is all around less than mediocre Mexican ...       1          0   \n",
       "7  My family loves this place. Everyone gets thei...       5          1   \n",
       "8  Where do I begin, already having a bad hotel s...       2          0   \n",
       "9  The place is awesome, bartenders are amazing. ...       5          1   \n",
       "\n",
       "                                    converted_review  polarity_score  \\\n",
       "0  walked here from staying at the trump towers a...          0.8758   \n",
       "1  i loved watching koi poke come to life  the de...          0.9813   \n",
       "2  we have been coming here since they opened and...          0.9971   \n",
       "3  oh scott when is the last time you did quality...         -0.9222   \n",
       "4  i went here with a large group for a friends b...          0.9907   \n",
       "5  one star for conceive and well cooked veggies ...         -0.9879   \n",
       "6  this is all around less than mediocre mexican ...          0.7362   \n",
       "7  my family loves this place everyone gets their...          0.9245   \n",
       "8  where do i begin already having a bad hotel st...         -0.5946   \n",
       "9  the place is awesome bartenders are amazing hi...          0.9500   \n",
       "\n",
       "   normalized_polarity_score  predicted_sentiment  \n",
       "0                    0.93790                    1  \n",
       "1                    0.99065                    1  \n",
       "2                    0.99855                    1  \n",
       "3                    0.03890                    0  \n",
       "4                    0.99535                    1  \n",
       "5                    0.00605                    0  \n",
       "6                    0.86810                    1  \n",
       "7                    0.96225                    1  \n",
       "8                    0.20270                    0  \n",
       "9                    0.97500                    1  "
      ]
     },
     "execution_count": 46,
     "metadata": {},
     "output_type": "execute_result"
    }
   ],
   "source": [
    "pickle.dump(VADER_Yelp_review, open('VADER_Yelp_review.pkl', 'wb'))\n",
    "VADER_Yelp_review = pickle.load(open('VADER_Yelp_review.pkl', 'rb'))\n",
    "VADER_Yelp_review.head(10)"
   ]
  },
  {
   "cell_type": "code",
   "execution_count": 47,
   "metadata": {},
   "outputs": [
    {
     "data": {
      "text/plain": [
       "0.213529265492845"
      ]
     },
     "execution_count": 47,
     "metadata": {},
     "output_type": "execute_result"
    }
   ],
   "source": [
    "# misclassification rate\n",
    "Yelp_vad_error = len(np.where(VADER_Yelp_review['sentiment'] != VADER_Yelp_review['predicted_sentiment'])[0]) / len(VADER_Yelp_review)\n",
    "Yelp_vad_error"
   ]
  },
  {
   "cell_type": "code",
   "execution_count": 48,
   "metadata": {},
   "outputs": [
    {
     "data": {
      "image/png": "[encoded data removed]",
      "text/plain": [
       "<Figure size 432x288 with 1 Axes>"
      ]
     },
     "metadata": {
      "needs_background": "light"
     },
     "output_type": "display_data"
    }
   ],
   "source": [
    "# ROC curve\n",
    "prob_value = VADER_Yelp_review['normalized_polarity_score']\n",
    "fpr, tpr, thresholds = metrics.roc_curve(y_test, prob_value)\n",
    "plt.plot(fpr, tpr, color='darkorange')\n",
    "plt.plot([0,1], [0,1], color='navy', linestyle='--')\n",
    "plt.suptitle('Yelp Review ROC Curve (VADER)')\n",
    "plt.xlabel('False Positive Rate')\n",
    "plt.ylabel('True Positive Rate')\n",
    "plt.show()"
   ]
  },
  {
   "cell_type": "code",
   "execution_count": 49,
   "metadata": {},
   "outputs": [],
   "source": [
    "y_true = list(VADER_Yelp_review['sentiment'])\n",
    "y_pred = list(VADER_Yelp_review['predicted_sentiment'])"
   ]
  },
  {
   "cell_type": "code",
   "execution_count": 50,
   "metadata": {},
   "outputs": [
    {
     "data": {
      "text/plain": [
       "0.7266274395832724"
      ]
     },
     "execution_count": 50,
     "metadata": {},
     "output_type": "execute_result"
    }
   ],
   "source": [
    "# AUC\n",
    "Yelp_vad_auc = roc_auc_score(y_true, y_pred)\n",
    "Yelp_vad_auc "
   ]
  },
  {
   "cell_type": "code",
   "execution_count": 51,
   "metadata": {},
   "outputs": [
    {
     "data": {
      "text/plain": [
       "0.765684578525611"
      ]
     },
     "execution_count": 51,
     "metadata": {},
     "output_type": "execute_result"
    }
   ],
   "source": [
    "# F1 score\n",
    "Yelp_vad_f1 = f1_score(y_true, y_pred, average='weighted')\n",
    "Yelp_vad_f1"
   ]
  },
  {
   "cell_type": "markdown",
   "metadata": {},
   "source": [
    "We put scores of the two different models into a single table."
   ]
  },
  {
   "cell_type": "code",
   "execution_count": 52,
   "metadata": {},
   "outputs": [
    {
     "data": {
      "text/html": [
       "<div>\n",
       "<style scoped>\n",
       "    .dataframe tbody tr th:only-of-type {\n",
       "        vertical-align: middle;\n",
       "    }\n",
       "\n",
       "    .dataframe tbody tr th {\n",
       "        vertical-align: top;\n",
       "    }\n",
       "\n",
       "    .dataframe thead th {\n",
       "        text-align: right;\n",
       "    }\n",
       "</style>\n",
       "<table border=\"1\" class=\"dataframe\">\n",
       "  <thead>\n",
       "    <tr style=\"text-align: right;\">\n",
       "      <th></th>\n",
       "      <th>Yelp Review (TF-IDF)</th>\n",
       "      <th>Yelp Review (VADER)</th>\n",
       "    </tr>\n",
       "  </thead>\n",
       "  <tbody>\n",
       "    <tr>\n",
       "      <th>error rate</th>\n",
       "      <td>0.128913</td>\n",
       "      <td>0.213529</td>\n",
       "    </tr>\n",
       "    <tr>\n",
       "      <th>AUC</th>\n",
       "      <td>0.858868</td>\n",
       "      <td>0.726627</td>\n",
       "    </tr>\n",
       "    <tr>\n",
       "      <th>F1 (weighted)</th>\n",
       "      <td>0.870449</td>\n",
       "      <td>0.765685</td>\n",
       "    </tr>\n",
       "  </tbody>\n",
       "</table>\n",
       "</div>"
      ],
      "text/plain": [
       "               Yelp Review (TF-IDF)  Yelp Review (VADER)\n",
       "error rate                 0.128913             0.213529\n",
       "AUC                        0.858868             0.726627\n",
       "F1 (weighted)              0.870449             0.765685"
      ]
     },
     "execution_count": 52,
     "metadata": {},
     "output_type": "execute_result"
    }
   ],
   "source": [
    "Yelp_scores_df = pd.DataFrame({\n",
    "    'Yelp Review (TF-IDF)': [Yelp_tf_error, Yelp_tf_auc, Yelp_tf_f1] ,\n",
    "    'Yelp Review (VADER)': [Yelp_vad_error, Yelp_vad_auc, Yelp_vad_f1],\n",
    "    }, index = ('error rate', 'AUC', 'F1 (weighted)'))\n",
    "Yelp_scores_df"
   ]
  },
  {
   "cell_type": "markdown",
   "metadata": {},
   "source": [
    "Clearly, __TF-IDF__ model is better in every aspect in terms of scores. But still we have to admit that the computational efficiency of __Parsimonious Rule-Based Model__ is more convenient than __TF-IDF__."
   ]
  },
  {
   "cell_type": "markdown",
   "metadata": {},
   "source": [
    "### 2.1 Further Investigation on Parsimonious Rule-Based Model\n",
    "So far, we've obtained some scores to compare each model. This time, we look into more details about each misclassified review, more specifically, *badly* misclassified reviews."
   ]
  },
  {
   "cell_type": "code",
   "execution_count": 53,
   "metadata": {},
   "outputs": [
    {
     "data": {
      "text/html": [
       "<div>\n",
       "<style scoped>\n",
       "    .dataframe tbody tr th:only-of-type {\n",
       "        vertical-align: middle;\n",
       "    }\n",
       "\n",
       "    .dataframe tbody tr th {\n",
       "        vertical-align: top;\n",
       "    }\n",
       "\n",
       "    .dataframe thead th {\n",
       "        text-align: right;\n",
       "    }\n",
       "</style>\n",
       "<table border=\"1\" class=\"dataframe\">\n",
       "  <thead>\n",
       "    <tr style=\"text-align: right;\">\n",
       "      <th></th>\n",
       "      <th>review</th>\n",
       "      <th>rating</th>\n",
       "      <th>sentiment</th>\n",
       "      <th>converted_review</th>\n",
       "      <th>polarity_score</th>\n",
       "      <th>normalized_polarity_score</th>\n",
       "      <th>predicted_sentiment</th>\n",
       "    </tr>\n",
       "  </thead>\n",
       "  <tbody>\n",
       "    <tr>\n",
       "      <th>92</th>\n",
       "      <td>This is a first and hopefully the last single ...</td>\n",
       "      <td>1</td>\n",
       "      <td>0</td>\n",
       "      <td>this is a first and hopefully the last single ...</td>\n",
       "      <td>0.9812</td>\n",
       "      <td>0.99060</td>\n",
       "      <td>1</td>\n",
       "    </tr>\n",
       "    <tr>\n",
       "      <th>100</th>\n",
       "      <td>IMHO, this used to be one of my favorite steak...</td>\n",
       "      <td>1</td>\n",
       "      <td>0</td>\n",
       "      <td>imho this used to be one of my favorite steak ...</td>\n",
       "      <td>0.9503</td>\n",
       "      <td>0.97515</td>\n",
       "      <td>1</td>\n",
       "    </tr>\n",
       "    <tr>\n",
       "      <th>124</th>\n",
       "      <td>They have two managers working today and the o...</td>\n",
       "      <td>1</td>\n",
       "      <td>0</td>\n",
       "      <td>they have two managers working today and the o...</td>\n",
       "      <td>0.9096</td>\n",
       "      <td>0.95480</td>\n",
       "      <td>1</td>\n",
       "    </tr>\n",
       "    <tr>\n",
       "      <th>171</th>\n",
       "      <td>I saw this place on the food networks with guy...</td>\n",
       "      <td>1</td>\n",
       "      <td>0</td>\n",
       "      <td>i saw this place on the food networks with guy...</td>\n",
       "      <td>0.9852</td>\n",
       "      <td>0.99260</td>\n",
       "      <td>1</td>\n",
       "    </tr>\n",
       "    <tr>\n",
       "      <th>188</th>\n",
       "      <td>This is concerning Caraoke only. I got there 9...</td>\n",
       "      <td>1</td>\n",
       "      <td>0</td>\n",
       "      <td>this is concerning caraoke only i got there 93...</td>\n",
       "      <td>0.9020</td>\n",
       "      <td>0.95100</td>\n",
       "      <td>1</td>\n",
       "    </tr>\n",
       "    <tr>\n",
       "      <th>192</th>\n",
       "      <td>Went to Uno for lunch on a work day.  I have b...</td>\n",
       "      <td>1</td>\n",
       "      <td>0</td>\n",
       "      <td>went to uno for lunch on a work day  i have be...</td>\n",
       "      <td>0.9740</td>\n",
       "      <td>0.98700</td>\n",
       "      <td>1</td>\n",
       "    </tr>\n",
       "    <tr>\n",
       "      <th>212</th>\n",
       "      <td>Well it starts off with  an 8 pm reservation  ...</td>\n",
       "      <td>1</td>\n",
       "      <td>0</td>\n",
       "      <td>well it starts off with  an 8 pm reservation  ...</td>\n",
       "      <td>0.9724</td>\n",
       "      <td>0.98620</td>\n",
       "      <td>1</td>\n",
       "    </tr>\n",
       "    <tr>\n",
       "      <th>229</th>\n",
       "      <td>Wow, what a disappointment.  This is rated the...</td>\n",
       "      <td>1</td>\n",
       "      <td>0</td>\n",
       "      <td>wow what a disappointment  this is rated the 3...</td>\n",
       "      <td>0.9846</td>\n",
       "      <td>0.99230</td>\n",
       "      <td>1</td>\n",
       "    </tr>\n",
       "    <tr>\n",
       "      <th>241</th>\n",
       "      <td>A little background information: we went on Su...</td>\n",
       "      <td>1</td>\n",
       "      <td>0</td>\n",
       "      <td>a little background information we went on sun...</td>\n",
       "      <td>0.9832</td>\n",
       "      <td>0.99160</td>\n",
       "      <td>1</td>\n",
       "    </tr>\n",
       "    <tr>\n",
       "      <th>457</th>\n",
       "      <td>Great if you are into drunk MILFs! Hang on to ...</td>\n",
       "      <td>1</td>\n",
       "      <td>0</td>\n",
       "      <td>great if you are into drunk milfs hang on to t...</td>\n",
       "      <td>0.9151</td>\n",
       "      <td>0.95755</td>\n",
       "      <td>1</td>\n",
       "    </tr>\n",
       "  </tbody>\n",
       "</table>\n",
       "</div>"
      ],
      "text/plain": [
       "                                                review  rating  sentiment  \\\n",
       "92   This is a first and hopefully the last single ...       1          0   \n",
       "100  IMHO, this used to be one of my favorite steak...       1          0   \n",
       "124  They have two managers working today and the o...       1          0   \n",
       "171  I saw this place on the food networks with guy...       1          0   \n",
       "188  This is concerning Caraoke only. I got there 9...       1          0   \n",
       "192  Went to Uno for lunch on a work day.  I have b...       1          0   \n",
       "212  Well it starts off with  an 8 pm reservation  ...       1          0   \n",
       "229  Wow, what a disappointment.  This is rated the...       1          0   \n",
       "241  A little background information: we went on Su...       1          0   \n",
       "457  Great if you are into drunk MILFs! Hang on to ...       1          0   \n",
       "\n",
       "                                      converted_review  polarity_score  \\\n",
       "92   this is a first and hopefully the last single ...          0.9812   \n",
       "100  imho this used to be one of my favorite steak ...          0.9503   \n",
       "124  they have two managers working today and the o...          0.9096   \n",
       "171  i saw this place on the food networks with guy...          0.9852   \n",
       "188  this is concerning caraoke only i got there 93...          0.9020   \n",
       "192  went to uno for lunch on a work day  i have be...          0.9740   \n",
       "212  well it starts off with  an 8 pm reservation  ...          0.9724   \n",
       "229  wow what a disappointment  this is rated the 3...          0.9846   \n",
       "241  a little background information we went on sun...          0.9832   \n",
       "457  great if you are into drunk milfs hang on to t...          0.9151   \n",
       "\n",
       "     normalized_polarity_score  predicted_sentiment  \n",
       "92                     0.99060                    1  \n",
       "100                    0.97515                    1  \n",
       "124                    0.95480                    1  \n",
       "171                    0.99260                    1  \n",
       "188                    0.95100                    1  \n",
       "192                    0.98700                    1  \n",
       "212                    0.98620                    1  \n",
       "229                    0.99230                    1  \n",
       "241                    0.99160                    1  \n",
       "457                    0.95755                    1  "
      ]
     },
     "execution_count": 53,
     "metadata": {},
     "output_type": "execute_result"
    }
   ],
   "source": [
    "misclassified_Yelp_review = VADER_Yelp_review[VADER_Yelp_review['sentiment'] != VADER_Yelp_review['predicted_sentiment']]\n",
    "badly_misclassified_Yelp_review = misclassified_Yelp_review[misclassified_Yelp_review['rating'] == 1]\n",
    "badly_misclassified_Yelp_review = badly_misclassified_Yelp_review[badly_misclassified_Yelp_review['normalized_polarity_score'] > 0.95]\n",
    "badly_misclassified_Yelp_review.head(10)"
   ]
  },
  {
   "cell_type": "markdown",
   "metadata": {},
   "source": [
    "We can see that these reviews are not just misclassified, but their polarity scores are extremely high while the correspoding reviews are very negative. Let's take a closer look at a couple of reviews that are *badly* misclassfied.\n",
    "\n",
    "__Example 1__"
   ]
  },
  {
   "cell_type": "code",
   "execution_count": 54,
   "metadata": {},
   "outputs": [
    {
     "data": {
      "text/plain": [
       "\"IMHO, this used to be one of my favorite steak houses. Now the food hardly merits the price, it's just bland. What does it say when a restaurant selling a $54 steak puts a bottle of steak sauce on your table?? Isn't that supposed to be sac-religious as a good steak shouldn't need sauce. The service leaves much to be desired as well- slow and forgetful. Save yourself the experience. Try Gallagher's in NYNY, I've been to the Vegas and original one in NY one and have never been disappointed.\""
      ]
     },
     "execution_count": 54,
     "metadata": {},
     "output_type": "execute_result"
    }
   ],
   "source": [
    "badly_misclassified_Yelp_review.iloc[1,0]"
   ]
  },
  {
   "cell_type": "markdown",
   "metadata": {},
   "source": [
    "Observations:\n",
    "\n",
    "1. The reviewer recommended a different restaurant instead of the one he/she is reviewing and showed positive sentiment on it.\n",
    "2. Used a rhetorical question instead of showing direct negative sentiment.\n",
    "3. Terms like \"slow\", \"forgetful\" were present but outsentimented by stronger positive terms such as \"one of my favorite\", \"never been disappointed\""
   ]
  },
  {
   "cell_type": "code",
   "execution_count": 55,
   "metadata": {},
   "outputs": [],
   "source": [
    "sentence1 = 'IMHO, this used to be one of my favorite steak houses.'\n",
    "sentence2 = 'Now the food hardly merits the price, it\\'s just bland.'\n",
    "sentence3 = 'What does it say when a restaurant selling a $54 steak puts a bottle of steak sauce on your table?? Isn\\'t that supposed to be sac-religious as a good steak shouldn\\'t need sauce.'\n",
    "sentence4 = 'The service leaves much to be desired as well- slow and forgetful.'\n",
    "sentence5 = 'Save yourself the experience.'\n",
    "sentence6 = 'Try Gallagher\\'s in NYNY, I\\'ve been to the Vegas and original one in NY one and have never been disappointed.'"
   ]
  },
  {
   "cell_type": "code",
   "execution_count": 56,
   "metadata": {},
   "outputs": [
    {
     "data": {
      "text/plain": [
       "{'neg': 0.0, 'neu': 0.769, 'pos': 0.231, 'compound': 0.4588}"
      ]
     },
     "execution_count": 56,
     "metadata": {},
     "output_type": "execute_result"
    }
   ],
   "source": [
    "analyzer.polarity_scores(sentence1)"
   ]
  },
  {
   "cell_type": "code",
   "execution_count": 57,
   "metadata": {},
   "outputs": [
    {
     "data": {
      "text/plain": [
       "{'neg': 0.0, 'neu': 0.789, 'pos': 0.211, 'compound': 0.3415}"
      ]
     },
     "execution_count": 57,
     "metadata": {},
     "output_type": "execute_result"
    }
   ],
   "source": [
    "analyzer.polarity_scores(sentence2)"
   ]
  },
  {
   "cell_type": "code",
   "execution_count": 58,
   "metadata": {},
   "outputs": [
    {
     "data": {
      "text/plain": [
       "{'neg': 0.0, 'neu': 0.896, 'pos': 0.104, 'compound': 0.504}"
      ]
     },
     "execution_count": 58,
     "metadata": {},
     "output_type": "execute_result"
    }
   ],
   "source": [
    "analyzer.polarity_scores(sentence3)"
   ]
  },
  {
   "cell_type": "code",
   "execution_count": 59,
   "metadata": {},
   "outputs": [
    {
     "data": {
      "text/plain": [
       "{'neg': 0.137, 'neu': 0.588, 'pos': 0.275, 'compound': 0.2732}"
      ]
     },
     "execution_count": 59,
     "metadata": {},
     "output_type": "execute_result"
    }
   ],
   "source": [
    "analyzer.polarity_scores(sentence4)"
   ]
  },
  {
   "cell_type": "code",
   "execution_count": 60,
   "metadata": {},
   "outputs": [
    {
     "data": {
      "text/plain": [
       "{'neg': 0.0, 'neu': 0.484, 'pos': 0.516, 'compound': 0.4939}"
      ]
     },
     "execution_count": 60,
     "metadata": {},
     "output_type": "execute_result"
    }
   ],
   "source": [
    "analyzer.polarity_scores(sentence5)"
   ]
  },
  {
   "cell_type": "code",
   "execution_count": 61,
   "metadata": {},
   "outputs": [
    {
     "data": {
      "text/plain": [
       "{'neg': 0.0, 'neu': 0.788, 'pos': 0.212, 'compound': 0.5932}"
      ]
     },
     "execution_count": 61,
     "metadata": {},
     "output_type": "execute_result"
    }
   ],
   "source": [
    "analyzer.polarity_scores(sentence6)"
   ]
  },
  {
   "cell_type": "markdown",
   "metadata": {},
   "source": [
    "__Example 2__"
   ]
  },
  {
   "cell_type": "code",
   "execution_count": 62,
   "metadata": {},
   "outputs": [
    {
     "data": {
      "text/plain": [
       "'They have two managers working today and the operation is a complete disaster. Both of them were working on the back handling the drive thru order and almost no one was helping out in the front desk. One guy next to me waited over 10 minutes for just a cup of coffee. One teenager was cleaning the same table for 10 minutes while chitchatting with his friends at a table. I am surprised the manager has not said something. Other tables were not picked up or cleaned with newspapers all over the place. Now The same kid I saw is in the front of the store hanging out with his friends instead of working. Wow! Just wow!'"
      ]
     },
     "execution_count": 62,
     "metadata": {},
     "output_type": "execute_result"
    }
   ],
   "source": [
    "badly_misclassified_Yelp_review.iloc[2,0]"
   ]
  },
  {
   "cell_type": "markdown",
   "metadata": {},
   "source": [
    "Observations:\n",
    "\n",
    "1. Used indirect/situational/contextual expressions to show negative sentiment (sentence 4,6,7) \n",
    "2. Misinterpreted the reviewer's sarcasm (sentence 8)"
   ]
  },
  {
   "cell_type": "code",
   "execution_count": 63,
   "metadata": {},
   "outputs": [],
   "source": [
    "sentence1 = 'They have two managers working today and the operation is a complete disaster.'\n",
    "sentence2 = 'Both of them were working on the back handling the drive thru order and almost no one was helping out in the front desk.'\n",
    "sentence3 = 'One guy next to me waited over 10 minutes for just a cup of coffee.'\n",
    "sentence4 = 'One teenager was cleaning the same table for 10 minutes while chitchatting with his friends at a table.'\n",
    "sentence5 = 'I am surprised the manager has not said something.'\n",
    "sentence6 = 'Other tables were not picked up or cleaned with newspapers all over the place.'\n",
    "sentence7 = 'Now The same kid I saw is in the front of the store hanging out with his friends instead of working.'\n",
    "sentence8 = 'Wow! Just wow!'"
   ]
  },
  {
   "cell_type": "code",
   "execution_count": 64,
   "metadata": {},
   "outputs": [
    {
     "data": {
      "text/plain": [
       "{'neg': 0.272, 'neu': 0.728, 'pos': 0.0, 'compound': -0.6249}"
      ]
     },
     "execution_count": 64,
     "metadata": {},
     "output_type": "execute_result"
    }
   ],
   "source": [
    "analyzer.polarity_scores(sentence1)"
   ]
  },
  {
   "cell_type": "code",
   "execution_count": 65,
   "metadata": {},
   "outputs": [
    {
     "data": {
      "text/plain": [
       "{'neg': 0.073, 'neu': 0.843, 'pos': 0.084, 'compound': 0.0754}"
      ]
     },
     "execution_count": 65,
     "metadata": {},
     "output_type": "execute_result"
    }
   ],
   "source": [
    "analyzer.polarity_scores(sentence2)"
   ]
  },
  {
   "cell_type": "code",
   "execution_count": 66,
   "metadata": {},
   "outputs": [
    {
     "data": {
      "text/plain": [
       "{'neg': 0.0, 'neu': 1.0, 'pos': 0.0, 'compound': 0.0}"
      ]
     },
     "execution_count": 66,
     "metadata": {},
     "output_type": "execute_result"
    }
   ],
   "source": [
    "analyzer.polarity_scores(sentence3)"
   ]
  },
  {
   "cell_type": "code",
   "execution_count": 67,
   "metadata": {},
   "outputs": [
    {
     "data": {
      "text/plain": [
       "{'neg': 0.0, 'neu': 0.838, 'pos': 0.162, 'compound': 0.4767}"
      ]
     },
     "execution_count": 67,
     "metadata": {},
     "output_type": "execute_result"
    }
   ],
   "source": [
    "analyzer.polarity_scores(sentence4)"
   ]
  },
  {
   "cell_type": "code",
   "execution_count": 68,
   "metadata": {},
   "outputs": [
    {
     "data": {
      "text/plain": [
       "{'neg': 0.0, 'neu': 0.787, 'pos': 0.213, 'compound': 0.2263}"
      ]
     },
     "execution_count": 68,
     "metadata": {},
     "output_type": "execute_result"
    }
   ],
   "source": [
    "analyzer.polarity_scores(sentence5)"
   ]
  },
  {
   "cell_type": "code",
   "execution_count": 69,
   "metadata": {},
   "outputs": [
    {
     "data": {
      "text/plain": [
       "{'neg': 0.0, 'neu': 1.0, 'pos': 0.0, 'compound': 0.0}"
      ]
     },
     "execution_count": 69,
     "metadata": {},
     "output_type": "execute_result"
    }
   ],
   "source": [
    "analyzer.polarity_scores(sentence6)"
   ]
  },
  {
   "cell_type": "code",
   "execution_count": 70,
   "metadata": {},
   "outputs": [
    {
     "data": {
      "text/plain": [
       "{'neg': 0.0, 'neu': 0.86, 'pos': 0.14, 'compound': 0.4767}"
      ]
     },
     "execution_count": 70,
     "metadata": {},
     "output_type": "execute_result"
    }
   ],
   "source": [
    "analyzer.polarity_scores(sentence7)"
   ]
  },
  {
   "cell_type": "code",
   "execution_count": 71,
   "metadata": {},
   "outputs": [
    {
     "data": {
      "text/plain": [
       "{'neg': 0.0, 'neu': 0.109, 'pos': 0.891, 'compound': 0.8475}"
      ]
     },
     "execution_count": 71,
     "metadata": {},
     "output_type": "execute_result"
    }
   ],
   "source": [
    "analyzer.polarity_scores(sentence8)"
   ]
  },
  {
   "cell_type": "markdown",
   "metadata": {},
   "source": [
    "__Example 3__"
   ]
  },
  {
   "cell_type": "code",
   "execution_count": 72,
   "metadata": {},
   "outputs": [
    {
     "data": {
      "text/plain": [
       "\"I saw this place on the food networks with guy fieri and thought I would give it a chance. It's about 20 min from the strip but thought it would be worth the drive. When you pull up the place smells amazing I was excited to try everything. The staff was super nice and courteous so my 1 star is on the food the staff gets 5. \\n   I ordered the tri tip, ribs , pulled pork , chicken and a couple sides. I was expecting fall off the bone quality ribs with tons of flavor but what I got was a dry rib that wasn't good at all. The tri tip was tender but lacked flavor, pulled pork was my favorite and the cornbread. I don't know if guy fieri got there best ribs that day but mine didn't look or taste good.\""
      ]
     },
     "execution_count": 72,
     "metadata": {},
     "output_type": "execute_result"
    }
   ],
   "source": [
    "badly_misclassified_Yelp_review.iloc[3,0]"
   ]
  },
  {
   "cell_type": "markdown",
   "metadata": {},
   "source": [
    "Observations:\n",
    "\n",
    "This reviewer is a terrible reviwer. His experience is actually pretty positive except for the fact that he had bad ribs. This is supposed to be at least 3 star review in our opinion.\n",
    "\n",
    "---"
   ]
  },
  {
   "cell_type": "markdown",
   "metadata": {},
   "source": [
    "## Video Game Review Dataset for Sentiment Analysis\n",
    "Now we move onto a different dataset, i.e. __video game review__ dataset. The purpose is that we want to see how each model works on domain-specific dataset. In __video game review__, people use much more specific and technical vocabulary to describe their opinion. We'd like to see how this change will affect our two different models.\n",
    "\n",
    "### Data Collection\n",
    "We found a website that has many different datasets including __video game review__, which we wanted to try our models on. So we reached out to Julian McAuley, Assistant Professor @ Computer Science Department of UCSD to get permission to use the data. This file is also in json format. We repeat the similar procedure as previous."
   ]
  },
  {
   "cell_type": "code",
   "execution_count": 73,
   "metadata": {},
   "outputs": [],
   "source": [
    "with open('reviews_video_games.json', 'rb') as f:\n",
    "    data = f.readlines()\n",
    "    \n",
    "columns = list(json.loads(data[0]).keys())\n",
    "rows = []\n",
    "for i in range(0,len(data)):\n",
    "    rows.append(list(json.loads(data[i]).values()))\n",
    "data = pd.DataFrame(rows, columns=columns)\n",
    "data = data[['reviewText','overall']]\n",
    "\n",
    "video_game_review = data.rename(index=str, columns={'reviewText': 'review', 'overall': 'rating'})\n",
    "\n",
    "video_game_review1 = video_game_review[video_game_review['rating'] == 1]\n",
    "video_game_review2 = video_game_review[video_game_review['rating'] == 2]\n",
    "video_game_review3 = video_game_review[video_game_review['rating'] == 3]\n",
    "video_game_review4 = video_game_review[video_game_review['rating'] == 4]\n",
    "video_game_review5 = video_game_review[video_game_review['rating'] == 5]\n",
    "video_game_review = pd.concat([video_game_review1,video_game_review2,video_game_review3,\n",
    "                               video_game_review4,video_game_review5])"
   ]
  },
  {
   "cell_type": "code",
   "execution_count": 74,
   "metadata": {},
   "outputs": [
    {
     "data": {
      "image/png": "[encoded data removed]",
      "text/plain": [
       "<Figure size 432x288 with 1 Axes>"
      ]
     },
     "metadata": {
      "needs_background": "light"
     },
     "output_type": "display_data"
    }
   ],
   "source": [
    "video_game_review.rating = video_game_review.rating.astype('int')\n",
    "n, bins, patches = plt.hist(video_game_review['rating'], align='left',\n",
    "                            range=[0.5, 5.5], facecolor='blue', alpha=0.8)\n",
    "\n",
    "plt.xlabel('rating')\n",
    "plt.ylabel('frequency')\n",
    "plt.title('Video Game Review Rate Distribution')\n",
    "plt.grid(True)\n",
    "\n",
    "plt.show()"
   ]
  },
  {
   "cell_type": "code",
   "execution_count": 75,
   "metadata": {},
   "outputs": [],
   "source": [
    "video_game_review = video_game_review[video_game_review['rating'] != 3]"
   ]
  },
  {
   "cell_type": "code",
   "execution_count": 76,
   "metadata": {},
   "outputs": [],
   "source": [
    "def sentiment_classifier(x):\n",
    "    if x == 4 or x == 5:\n",
    "        y = 1\n",
    "    else:\n",
    "        y = 0\n",
    "    return y\n",
    "video_game_review['sentiment'] = np.vectorize(sentiment_classifier)(video_game_review['rating'])"
   ]
  },
  {
   "cell_type": "markdown",
   "metadata": {},
   "source": [
    "### 1. TF_IDF Matrix Approach\n",
    "Again, the process is similar to the previous one."
   ]
  },
  {
   "cell_type": "code",
   "execution_count": 77,
   "metadata": {},
   "outputs": [
    {
     "data": {
      "image/png": "[encoded data removed]",
      "text/plain": [
       "<Figure size 432x288 with 1 Axes>"
      ]
     },
     "metadata": {
      "needs_background": "light"
     },
     "output_type": "display_data"
    }
   ],
   "source": [
    "x = [1,2]\n",
    "y = [video_game_review[(video_game_review['sentiment'] == 0)].count()[0],\n",
    "     (len(video_game_review)-video_game_review[(video_game_review['sentiment'] == 0)].count()[0])]\n",
    "\n",
    "labels = list(np.unique(video_game_review['sentiment']))\n",
    "\n",
    "plt.bar(x, y, align='center')\n",
    "plt.xticks(x, labels)\n",
    "plt.xlabel('sentiment')\n",
    "plt.ylabel('frequency')\n",
    "plt.title('Video Game Review Sentiment Distribution')\n",
    "plt.grid(True)\n",
    "plt.show()"
   ]
  },
  {
   "cell_type": "markdown",
   "metadata": {},
   "source": [
    "This time, instead of undersampling, we use oversampling from the minority class. The reason is that we wanted the amount of __video game review__ to be as similar as that of __Yelp review__ for a fair comparison. In fact, __Yelp review__ data was a bit larger, so we choose to oversample for __video game review__ data. Here, to prevent overfitting, we first separate data into positive and negative sentiment. Then we obtain 20% of each sentiment to set aside test dataset."
   ]
  },
  {
   "cell_type": "code",
   "execution_count": 78,
   "metadata": {},
   "outputs": [],
   "source": [
    "# train / test set split to prevent overfitting\n",
    "video_game_review_pos = video_game_review[video_game_review['sentiment'] == 1]\n",
    "video_game_review_neg = video_game_review[video_game_review['sentiment'] == 0]\n",
    "video_game_review_pos = video_game_review_pos.reset_index(drop=True)\n",
    "video_game_review_neg = video_game_review_neg.reset_index(drop=True)\n",
    "\n",
    "np.random.seed(1)\n",
    "indices = video_game_review_pos.index.tolist()\n",
    "np.random.shuffle(indices)\n",
    "\n",
    "train_indices = indices[:int(len(video_game_review_pos)*0.8)]\n",
    "test_indices = indices[int(len(video_game_review_pos)*0.8):]\n",
    "\n",
    "video_game_review_pos_train = video_game_review_pos.iloc[train_indices,:].reset_index(drop=True)\n",
    "video_game_review_pos_test = video_game_review_pos.iloc[test_indices,:].reset_index(drop=True)\n",
    "\n",
    "np.random.seed(1)\n",
    "indices = video_game_review_neg.index.tolist()\n",
    "np.random.shuffle(indices)\n",
    "\n",
    "train_indices = indices[:int(len(video_game_review_neg)*0.8)]\n",
    "test_indices = indices[int(len(video_game_review_neg)*0.8):]\n",
    "\n",
    "video_game_review_neg_train = video_game_review_neg.iloc[train_indices,:].reset_index(drop=True)\n",
    "video_game_review_neg_test = video_game_review_neg.iloc[test_indices,:].reset_index(drop=True)\n",
    "\n",
    "video_game_review_train = pd.concat([video_game_review_neg_train, video_game_review_pos_train]).reset_index(drop=True)\n",
    "video_game_review_test = pd.concat([video_game_review_neg_test, video_game_review_pos_test]).reset_index(drop=True)"
   ]
  },
  {
   "cell_type": "markdown",
   "metadata": {},
   "source": [
    "Oversample negative sentiment from train data."
   ]
  },
  {
   "cell_type": "code",
   "execution_count": 79,
   "metadata": {},
   "outputs": [
    {
     "data": {
      "image/png": "[encoded data removed]",
      "text/plain": [
       "<Figure size 432x288 with 1 Axes>"
      ]
     },
     "metadata": {
      "needs_background": "light"
     },
     "output_type": "display_data"
    }
   ],
   "source": [
    "# oversampling negative sentiment from train data\n",
    "video_game_review_train_pos = video_game_review_train[video_game_review_train['sentiment'] == 1]\n",
    "video_game_review_train_neg = video_game_review_train[video_game_review_train['sentiment'] == 0]\n",
    "\n",
    "video_game_review_train_neg2 = video_game_review_train_neg.copy()\n",
    "video_game_review_train_neg3 = video_game_review_train_neg.copy()\n",
    "video_game_review_train_neg = pd.concat([video_game_review_train_neg,\n",
    "                                         video_game_review_train_neg2,\n",
    "                                         video_game_review_train_neg3]).reset_index(drop=True)\n",
    "\n",
    "video_game_review_train = pd.concat([video_game_review_train_neg, video_game_review_train_pos]).reset_index(drop=True)\n",
    "\n",
    "x = [1,2]\n",
    "y = [video_game_review_train[(video_game_review_train['sentiment'] == 0)].count()[0],\n",
    "     (len(video_game_review_train)-video_game_review_train[(video_game_review_train['sentiment'] == 0)].count()[0])]\n",
    "\n",
    "labels = list(np.unique(video_game_review_train['sentiment']))\n",
    "\n",
    "plt.bar(x, y, align='center')\n",
    "plt.xticks(x, labels)\n",
    "plt.xlabel('sentiment')\n",
    "plt.ylabel('frequency')\n",
    "plt.title('Video Game Review (Train) Sentiment Distribution')\n",
    "plt.grid(True)\n",
    "plt.show()"
   ]
  },
  {
   "cell_type": "markdown",
   "metadata": {},
   "source": [
    "The proportion looks much better now. We continue the pre-processing just like before."
   ]
  },
  {
   "cell_type": "code",
   "execution_count": 80,
   "metadata": {},
   "outputs": [
    {
     "data": {
      "text/html": [
       "<div>\n",
       "<style scoped>\n",
       "    .dataframe tbody tr th:only-of-type {\n",
       "        vertical-align: middle;\n",
       "    }\n",
       "\n",
       "    .dataframe tbody tr th {\n",
       "        vertical-align: top;\n",
       "    }\n",
       "\n",
       "    .dataframe thead th {\n",
       "        text-align: right;\n",
       "    }\n",
       "</style>\n",
       "<table border=\"1\" class=\"dataframe\">\n",
       "  <thead>\n",
       "    <tr style=\"text-align: right;\">\n",
       "      <th></th>\n",
       "      <th>review</th>\n",
       "      <th>rating</th>\n",
       "      <th>sentiment</th>\n",
       "      <th>converted_review</th>\n",
       "    </tr>\n",
       "  </thead>\n",
       "  <tbody>\n",
       "    <tr>\n",
       "      <th>0</th>\n",
       "      <td>We were very excited when we got this game for...</td>\n",
       "      <td>2</td>\n",
       "      <td>0</td>\n",
       "      <td>we be very excited when we get this game for o...</td>\n",
       "    </tr>\n",
       "    <tr>\n",
       "      <th>1</th>\n",
       "      <td>If only the developer had pushed back a month ...</td>\n",
       "      <td>1</td>\n",
       "      <td>0</td>\n",
       "      <td>if only the developer have push back a month a...</td>\n",
       "    </tr>\n",
       "    <tr>\n",
       "      <th>2</th>\n",
       "      <td>A total waste of time!!  Never has a game with...</td>\n",
       "      <td>2</td>\n",
       "      <td>0</td>\n",
       "      <td>a total waste of time never have a game with s...</td>\n",
       "    </tr>\n",
       "    <tr>\n",
       "      <th>3</th>\n",
       "      <td>Not much more to say except that this game was...</td>\n",
       "      <td>1</td>\n",
       "      <td>0</td>\n",
       "      <td>not much more to say except that this game be ...</td>\n",
       "    </tr>\n",
       "    <tr>\n",
       "      <th>4</th>\n",
       "      <td>There is no Defense in the game and you don't ...</td>\n",
       "      <td>1</td>\n",
       "      <td>0</td>\n",
       "      <td>there be no defense in the game and you do not...</td>\n",
       "    </tr>\n",
       "    <tr>\n",
       "      <th>5</th>\n",
       "      <td>Anyone in their right mind can see the Assassi...</td>\n",
       "      <td>2</td>\n",
       "      <td>0</td>\n",
       "      <td>anyone in their right mind can see the assassi...</td>\n",
       "    </tr>\n",
       "    <tr>\n",
       "      <th>6</th>\n",
       "      <td>I downloaded this and promptly removed it. I t...</td>\n",
       "      <td>2</td>\n",
       "      <td>0</td>\n",
       "      <td>i download this and promptly remove it i think...</td>\n",
       "    </tr>\n",
       "    <tr>\n",
       "      <th>7</th>\n",
       "      <td>First to the obvious: this game is beautiful. ...</td>\n",
       "      <td>2</td>\n",
       "      <td>0</td>\n",
       "      <td>first to the obvious this game be beautiful th...</td>\n",
       "    </tr>\n",
       "    <tr>\n",
       "      <th>8</th>\n",
       "      <td>Scroll down to see the list of Pros and Cons.W...</td>\n",
       "      <td>2</td>\n",
       "      <td>0</td>\n",
       "      <td>scroll down to see the list of pro and conswel...</td>\n",
       "    </tr>\n",
       "    <tr>\n",
       "      <th>9</th>\n",
       "      <td>I rented this game from gamefly.com and I hate...</td>\n",
       "      <td>2</td>\n",
       "      <td>0</td>\n",
       "      <td>i rent this game from gameflycom and i hate it...</td>\n",
       "    </tr>\n",
       "  </tbody>\n",
       "</table>\n",
       "</div>"
      ],
      "text/plain": [
       "                                              review  rating  sentiment  \\\n",
       "0  We were very excited when we got this game for...       2          0   \n",
       "1  If only the developer had pushed back a month ...       1          0   \n",
       "2  A total waste of time!!  Never has a game with...       2          0   \n",
       "3  Not much more to say except that this game was...       1          0   \n",
       "4  There is no Defense in the game and you don't ...       1          0   \n",
       "5  Anyone in their right mind can see the Assassi...       2          0   \n",
       "6  I downloaded this and promptly removed it. I t...       2          0   \n",
       "7  First to the obvious: this game is beautiful. ...       2          0   \n",
       "8  Scroll down to see the list of Pros and Cons.W...       2          0   \n",
       "9  I rented this game from gamefly.com and I hate...       2          0   \n",
       "\n",
       "                                    converted_review  \n",
       "0  we be very excited when we get this game for o...  \n",
       "1  if only the developer have push back a month a...  \n",
       "2  a total waste of time never have a game with s...  \n",
       "3  not much more to say except that this game be ...  \n",
       "4  there be no defense in the game and you do not...  \n",
       "5  anyone in their right mind can see the assassi...  \n",
       "6  i download this and promptly remove it i think...  \n",
       "7  first to the obvious this game be beautiful th...  \n",
       "8  scroll down to see the list of pro and conswel...  \n",
       "9  i rent this game from gameflycom and i hate it...  "
      ]
     },
     "execution_count": 80,
     "metadata": {},
     "output_type": "execute_result"
    }
   ],
   "source": [
    "# case conversion\n",
    "video_game_review_train['converted_review'] = video_game_review_train['review'].str.lower()\n",
    "converted_review = list(video_game_review_train['converted_review'])\n",
    "\n",
    "# expanding contractions\n",
    "for i in range(0,len(converted_review)):\n",
    "    converted_review[i] = expand_contractions(converted_review[i])\n",
    "\n",
    "# removing special characters\n",
    "converted_review = [remove_special_characters(sentence) for sentence in converted_review]\n",
    "\n",
    "# lemmatization\n",
    "converted_review = [lemmatize_text(sentence) for sentence in converted_review]\n",
    "\n",
    "# add new column converted_review to train data\n",
    "video_game_review_train['converted_review'] = pd.Series(converted_review)\n",
    "\n",
    "pickle.dump(video_game_review_train, open('video_game_review_train.pkl', 'wb'))\n",
    "video_game_review_train = pickle.load(open('video_game_review_train.pkl', 'rb'))\n",
    "video_game_review_train.head(10)"
   ]
  },
  {
   "cell_type": "markdown",
   "metadata": {},
   "source": [
    "Tokenize and get tf-idf dictionary."
   ]
  },
  {
   "cell_type": "code",
   "execution_count": 81,
   "metadata": {},
   "outputs": [
    {
     "data": {
      "text/html": [
       "<div>\n",
       "<style scoped>\n",
       "    .dataframe tbody tr th:only-of-type {\n",
       "        vertical-align: middle;\n",
       "    }\n",
       "\n",
       "    .dataframe tbody tr th {\n",
       "        vertical-align: top;\n",
       "    }\n",
       "\n",
       "    .dataframe thead th {\n",
       "        text-align: right;\n",
       "    }\n",
       "</style>\n",
       "<table border=\"1\" class=\"dataframe\">\n",
       "  <thead>\n",
       "    <tr style=\"text-align: right;\">\n",
       "      <th></th>\n",
       "      <th>0</th>\n",
       "      <th>1</th>\n",
       "      <th>2</th>\n",
       "      <th>3</th>\n",
       "      <th>4</th>\n",
       "      <th>5</th>\n",
       "      <th>6</th>\n",
       "      <th>7</th>\n",
       "      <th>8</th>\n",
       "      <th>9</th>\n",
       "      <th>...</th>\n",
       "      <th>1077</th>\n",
       "      <th>1078</th>\n",
       "      <th>1079</th>\n",
       "      <th>1080</th>\n",
       "      <th>1081</th>\n",
       "      <th>1082</th>\n",
       "      <th>1083</th>\n",
       "      <th>1084</th>\n",
       "      <th>1085</th>\n",
       "      <th>y</th>\n",
       "    </tr>\n",
       "  </thead>\n",
       "  <tbody>\n",
       "    <tr>\n",
       "      <th>0</th>\n",
       "      <td>0.0</td>\n",
       "      <td>0.0</td>\n",
       "      <td>0.0</td>\n",
       "      <td>0.0</td>\n",
       "      <td>0.0</td>\n",
       "      <td>0.0</td>\n",
       "      <td>0.000000</td>\n",
       "      <td>0.0</td>\n",
       "      <td>0.0</td>\n",
       "      <td>0.0</td>\n",
       "      <td>...</td>\n",
       "      <td>0.000000</td>\n",
       "      <td>0.441695</td>\n",
       "      <td>0.0</td>\n",
       "      <td>0.000000</td>\n",
       "      <td>0.0</td>\n",
       "      <td>0.0</td>\n",
       "      <td>0.0</td>\n",
       "      <td>0.0</td>\n",
       "      <td>0.0</td>\n",
       "      <td>0</td>\n",
       "    </tr>\n",
       "    <tr>\n",
       "      <th>1</th>\n",
       "      <td>0.0</td>\n",
       "      <td>0.0</td>\n",
       "      <td>0.0</td>\n",
       "      <td>0.0</td>\n",
       "      <td>0.0</td>\n",
       "      <td>0.0</td>\n",
       "      <td>0.000000</td>\n",
       "      <td>0.0</td>\n",
       "      <td>0.0</td>\n",
       "      <td>0.0</td>\n",
       "      <td>...</td>\n",
       "      <td>0.000000</td>\n",
       "      <td>0.000000</td>\n",
       "      <td>0.0</td>\n",
       "      <td>0.000000</td>\n",
       "      <td>0.0</td>\n",
       "      <td>0.0</td>\n",
       "      <td>0.0</td>\n",
       "      <td>0.0</td>\n",
       "      <td>0.0</td>\n",
       "      <td>0</td>\n",
       "    </tr>\n",
       "    <tr>\n",
       "      <th>2</th>\n",
       "      <td>0.0</td>\n",
       "      <td>0.0</td>\n",
       "      <td>0.0</td>\n",
       "      <td>0.0</td>\n",
       "      <td>0.0</td>\n",
       "      <td>0.0</td>\n",
       "      <td>0.000000</td>\n",
       "      <td>0.0</td>\n",
       "      <td>0.0</td>\n",
       "      <td>0.0</td>\n",
       "      <td>...</td>\n",
       "      <td>0.000000</td>\n",
       "      <td>0.000000</td>\n",
       "      <td>0.0</td>\n",
       "      <td>0.000000</td>\n",
       "      <td>0.0</td>\n",
       "      <td>0.0</td>\n",
       "      <td>0.0</td>\n",
       "      <td>0.0</td>\n",
       "      <td>0.0</td>\n",
       "      <td>0</td>\n",
       "    </tr>\n",
       "    <tr>\n",
       "      <th>3</th>\n",
       "      <td>0.0</td>\n",
       "      <td>0.0</td>\n",
       "      <td>0.0</td>\n",
       "      <td>0.0</td>\n",
       "      <td>0.0</td>\n",
       "      <td>0.0</td>\n",
       "      <td>0.000000</td>\n",
       "      <td>0.0</td>\n",
       "      <td>0.0</td>\n",
       "      <td>0.0</td>\n",
       "      <td>...</td>\n",
       "      <td>0.000000</td>\n",
       "      <td>0.000000</td>\n",
       "      <td>0.0</td>\n",
       "      <td>0.000000</td>\n",
       "      <td>0.0</td>\n",
       "      <td>0.0</td>\n",
       "      <td>0.0</td>\n",
       "      <td>0.0</td>\n",
       "      <td>0.0</td>\n",
       "      <td>0</td>\n",
       "    </tr>\n",
       "    <tr>\n",
       "      <th>4</th>\n",
       "      <td>0.0</td>\n",
       "      <td>0.0</td>\n",
       "      <td>0.0</td>\n",
       "      <td>0.0</td>\n",
       "      <td>0.0</td>\n",
       "      <td>0.0</td>\n",
       "      <td>0.000000</td>\n",
       "      <td>0.0</td>\n",
       "      <td>0.0</td>\n",
       "      <td>0.0</td>\n",
       "      <td>...</td>\n",
       "      <td>0.000000</td>\n",
       "      <td>0.000000</td>\n",
       "      <td>0.0</td>\n",
       "      <td>0.000000</td>\n",
       "      <td>0.0</td>\n",
       "      <td>0.0</td>\n",
       "      <td>0.0</td>\n",
       "      <td>0.0</td>\n",
       "      <td>0.0</td>\n",
       "      <td>0</td>\n",
       "    </tr>\n",
       "    <tr>\n",
       "      <th>5</th>\n",
       "      <td>0.0</td>\n",
       "      <td>0.0</td>\n",
       "      <td>0.0</td>\n",
       "      <td>0.0</td>\n",
       "      <td>0.0</td>\n",
       "      <td>0.0</td>\n",
       "      <td>0.000000</td>\n",
       "      <td>0.0</td>\n",
       "      <td>0.0</td>\n",
       "      <td>0.0</td>\n",
       "      <td>...</td>\n",
       "      <td>0.245471</td>\n",
       "      <td>0.000000</td>\n",
       "      <td>0.0</td>\n",
       "      <td>0.000000</td>\n",
       "      <td>0.0</td>\n",
       "      <td>0.0</td>\n",
       "      <td>0.0</td>\n",
       "      <td>0.0</td>\n",
       "      <td>0.0</td>\n",
       "      <td>0</td>\n",
       "    </tr>\n",
       "    <tr>\n",
       "      <th>6</th>\n",
       "      <td>0.0</td>\n",
       "      <td>0.0</td>\n",
       "      <td>0.0</td>\n",
       "      <td>0.0</td>\n",
       "      <td>0.0</td>\n",
       "      <td>0.0</td>\n",
       "      <td>0.000000</td>\n",
       "      <td>0.0</td>\n",
       "      <td>0.0</td>\n",
       "      <td>0.0</td>\n",
       "      <td>...</td>\n",
       "      <td>0.000000</td>\n",
       "      <td>0.000000</td>\n",
       "      <td>0.0</td>\n",
       "      <td>0.000000</td>\n",
       "      <td>0.0</td>\n",
       "      <td>0.0</td>\n",
       "      <td>0.0</td>\n",
       "      <td>0.0</td>\n",
       "      <td>0.0</td>\n",
       "      <td>0</td>\n",
       "    </tr>\n",
       "    <tr>\n",
       "      <th>7</th>\n",
       "      <td>0.0</td>\n",
       "      <td>0.0</td>\n",
       "      <td>0.0</td>\n",
       "      <td>0.0</td>\n",
       "      <td>0.0</td>\n",
       "      <td>0.0</td>\n",
       "      <td>0.000000</td>\n",
       "      <td>0.0</td>\n",
       "      <td>0.0</td>\n",
       "      <td>0.0</td>\n",
       "      <td>...</td>\n",
       "      <td>0.000000</td>\n",
       "      <td>0.000000</td>\n",
       "      <td>0.0</td>\n",
       "      <td>0.000000</td>\n",
       "      <td>0.0</td>\n",
       "      <td>0.0</td>\n",
       "      <td>0.0</td>\n",
       "      <td>0.0</td>\n",
       "      <td>0.0</td>\n",
       "      <td>0</td>\n",
       "    </tr>\n",
       "    <tr>\n",
       "      <th>8</th>\n",
       "      <td>0.0</td>\n",
       "      <td>0.0</td>\n",
       "      <td>0.0</td>\n",
       "      <td>0.0</td>\n",
       "      <td>0.0</td>\n",
       "      <td>0.0</td>\n",
       "      <td>0.050645</td>\n",
       "      <td>0.0</td>\n",
       "      <td>0.0</td>\n",
       "      <td>0.0</td>\n",
       "      <td>...</td>\n",
       "      <td>0.000000</td>\n",
       "      <td>0.000000</td>\n",
       "      <td>0.0</td>\n",
       "      <td>0.000000</td>\n",
       "      <td>0.0</td>\n",
       "      <td>0.0</td>\n",
       "      <td>0.0</td>\n",
       "      <td>0.0</td>\n",
       "      <td>0.0</td>\n",
       "      <td>0</td>\n",
       "    </tr>\n",
       "    <tr>\n",
       "      <th>9</th>\n",
       "      <td>0.0</td>\n",
       "      <td>0.0</td>\n",
       "      <td>0.0</td>\n",
       "      <td>0.0</td>\n",
       "      <td>0.0</td>\n",
       "      <td>0.0</td>\n",
       "      <td>0.000000</td>\n",
       "      <td>0.0</td>\n",
       "      <td>0.0</td>\n",
       "      <td>0.0</td>\n",
       "      <td>...</td>\n",
       "      <td>0.000000</td>\n",
       "      <td>0.000000</td>\n",
       "      <td>0.0</td>\n",
       "      <td>0.084782</td>\n",
       "      <td>0.0</td>\n",
       "      <td>0.0</td>\n",
       "      <td>0.0</td>\n",
       "      <td>0.0</td>\n",
       "      <td>0.0</td>\n",
       "      <td>0</td>\n",
       "    </tr>\n",
       "  </tbody>\n",
       "</table>\n",
       "<p>10 rows × 1087 columns</p>\n",
       "</div>"
      ],
      "text/plain": [
       "     0    1    2    3    4    5         6    7    8    9 ...      1077  \\\n",
       "0  0.0  0.0  0.0  0.0  0.0  0.0  0.000000  0.0  0.0  0.0 ...  0.000000   \n",
       "1  0.0  0.0  0.0  0.0  0.0  0.0  0.000000  0.0  0.0  0.0 ...  0.000000   \n",
       "2  0.0  0.0  0.0  0.0  0.0  0.0  0.000000  0.0  0.0  0.0 ...  0.000000   \n",
       "3  0.0  0.0  0.0  0.0  0.0  0.0  0.000000  0.0  0.0  0.0 ...  0.000000   \n",
       "4  0.0  0.0  0.0  0.0  0.0  0.0  0.000000  0.0  0.0  0.0 ...  0.000000   \n",
       "5  0.0  0.0  0.0  0.0  0.0  0.0  0.000000  0.0  0.0  0.0 ...  0.245471   \n",
       "6  0.0  0.0  0.0  0.0  0.0  0.0  0.000000  0.0  0.0  0.0 ...  0.000000   \n",
       "7  0.0  0.0  0.0  0.0  0.0  0.0  0.000000  0.0  0.0  0.0 ...  0.000000   \n",
       "8  0.0  0.0  0.0  0.0  0.0  0.0  0.050645  0.0  0.0  0.0 ...  0.000000   \n",
       "9  0.0  0.0  0.0  0.0  0.0  0.0  0.000000  0.0  0.0  0.0 ...  0.000000   \n",
       "\n",
       "       1078  1079      1080  1081  1082  1083  1084  1085  y  \n",
       "0  0.441695   0.0  0.000000   0.0   0.0   0.0   0.0   0.0  0  \n",
       "1  0.000000   0.0  0.000000   0.0   0.0   0.0   0.0   0.0  0  \n",
       "2  0.000000   0.0  0.000000   0.0   0.0   0.0   0.0   0.0  0  \n",
       "3  0.000000   0.0  0.000000   0.0   0.0   0.0   0.0   0.0  0  \n",
       "4  0.000000   0.0  0.000000   0.0   0.0   0.0   0.0   0.0  0  \n",
       "5  0.000000   0.0  0.000000   0.0   0.0   0.0   0.0   0.0  0  \n",
       "6  0.000000   0.0  0.000000   0.0   0.0   0.0   0.0   0.0  0  \n",
       "7  0.000000   0.0  0.000000   0.0   0.0   0.0   0.0   0.0  0  \n",
       "8  0.000000   0.0  0.000000   0.0   0.0   0.0   0.0   0.0  0  \n",
       "9  0.000000   0.0  0.084782   0.0   0.0   0.0   0.0   0.0  0  \n",
       "\n",
       "[10 rows x 1087 columns]"
      ]
     },
     "execution_count": 81,
     "metadata": {},
     "output_type": "execute_result"
    }
   ],
   "source": [
    "# construct TF-IDF Matrix with true label column\n",
    "tfidf_vectorizer = TfidfVectorizer(lowercase=True, analyzer='word', stop_words=stop_words_set, max_df=0.8, min_df=0.01)\n",
    "video_game_tfidf_vect_fit = tfidf_vectorizer.fit(video_game_review_train['converted_review'])\n",
    "pickle.dump(video_game_tfidf_vect_fit, open('video_game_tfidf_vect_fit.pkl', 'wb'))\n",
    "video_game_tfidf_vect_fit = pickle.load(open('video_game_tfidf_vect_fit.pkl', 'rb'))\n",
    "tfidf_sparse = video_game_tfidf_vect_fit.transform(video_game_review_train['converted_review'])\n",
    "tfidf_dense = tfidf_sparse.todense(order=None, out=None)\n",
    "tfidf_dense = pd.DataFrame(tfidf_dense)\n",
    "tfidf_dense['y'] = video_game_review_train['sentiment']\n",
    "tfidf_dense.head(10)"
   ]
  },
  {
   "cell_type": "code",
   "execution_count": 82,
   "metadata": {},
   "outputs": [
    {
     "data": {
      "text/plain": [
       "array(['10', '100', '12', ..., 'zelda', 'zero', 'zombie'], dtype='<U14')"
      ]
     },
     "execution_count": 82,
     "metadata": {},
     "output_type": "execute_result"
    }
   ],
   "source": [
    "np.sort(list(video_game_tfidf_vect_fit.vocabulary_.keys()))"
   ]
  },
  {
   "cell_type": "code",
   "execution_count": 83,
   "metadata": {},
   "outputs": [
    {
     "data": {
      "text/html": [
       "<div>\n",
       "<style scoped>\n",
       "    .dataframe tbody tr th:only-of-type {\n",
       "        vertical-align: middle;\n",
       "    }\n",
       "\n",
       "    .dataframe tbody tr th {\n",
       "        vertical-align: top;\n",
       "    }\n",
       "\n",
       "    .dataframe thead th {\n",
       "        text-align: right;\n",
       "    }\n",
       "</style>\n",
       "<table border=\"1\" class=\"dataframe\">\n",
       "  <thead>\n",
       "    <tr style=\"text-align: right;\">\n",
       "      <th></th>\n",
       "      <th>weights</th>\n",
       "    </tr>\n",
       "  </thead>\n",
       "  <tbody>\n",
       "    <tr>\n",
       "      <th>common</th>\n",
       "      <td>5.604573</td>\n",
       "    </tr>\n",
       "    <tr>\n",
       "      <th>1st</th>\n",
       "      <td>5.603602</td>\n",
       "    </tr>\n",
       "    <tr>\n",
       "      <th>dvd</th>\n",
       "      <td>5.603117</td>\n",
       "    </tr>\n",
       "    <tr>\n",
       "      <th>realism</th>\n",
       "      <td>5.600211</td>\n",
       "    </tr>\n",
       "    <tr>\n",
       "      <th>numerous</th>\n",
       "      <td>5.600211</td>\n",
       "    </tr>\n",
       "    <tr>\n",
       "      <th>automatically</th>\n",
       "      <td>5.600211</td>\n",
       "    </tr>\n",
       "    <tr>\n",
       "      <th>hint</th>\n",
       "      <td>5.599728</td>\n",
       "    </tr>\n",
       "    <tr>\n",
       "      <th>superb</th>\n",
       "      <td>5.599728</td>\n",
       "    </tr>\n",
       "    <tr>\n",
       "      <th>dull</th>\n",
       "      <td>5.598279</td>\n",
       "    </tr>\n",
       "    <tr>\n",
       "      <th>trick</th>\n",
       "      <td>5.595869</td>\n",
       "    </tr>\n",
       "    <tr>\n",
       "      <th>distance</th>\n",
       "      <td>5.595387</td>\n",
       "    </tr>\n",
       "    <tr>\n",
       "      <th>service</th>\n",
       "      <td>5.594906</td>\n",
       "    </tr>\n",
       "    <tr>\n",
       "      <th>13</th>\n",
       "      <td>5.594906</td>\n",
       "    </tr>\n",
       "    <tr>\n",
       "      <th>ops</th>\n",
       "      <td>5.591065</td>\n",
       "    </tr>\n",
       "    <tr>\n",
       "      <th>constant</th>\n",
       "      <td>5.587717</td>\n",
       "    </tr>\n",
       "  </tbody>\n",
       "</table>\n",
       "</div>"
      ],
      "text/plain": [
       "                weights\n",
       "common         5.604573\n",
       "1st            5.603602\n",
       "dvd            5.603117\n",
       "realism        5.600211\n",
       "numerous       5.600211\n",
       "automatically  5.600211\n",
       "hint           5.599728\n",
       "superb         5.599728\n",
       "dull           5.598279\n",
       "trick          5.595869\n",
       "distance       5.595387\n",
       "service        5.594906\n",
       "13             5.594906\n",
       "ops            5.591065\n",
       "constant       5.587717"
      ]
     },
     "execution_count": 83,
     "metadata": {},
     "output_type": "execute_result"
    }
   ],
   "source": [
    "term_weights = pd.DataFrame(video_game_tfidf_vect_fit.idf_, np.sort(list(video_game_tfidf_vect_fit.vocabulary_.keys())))\n",
    "term_weights = term_weights.rename(columns={0: 'weights'})\n",
    "term_weights.sort_values(by=['weights'], ascending=False).head(15)"
   ]
  },
  {
   "cell_type": "code",
   "execution_count": 84,
   "metadata": {},
   "outputs": [],
   "source": [
    "tfidf_dense_X = tfidf_dense.iloc[:,:-1]\n",
    "tfidf_dense_y = tfidf_dense.iloc[:,-1]\n",
    "\n",
    "np.random.seed(1)\n",
    "X_train, X_test, y_train, y_test = train_test_split(tfidf_dense_X, tfidf_dense_y, test_size=0.2)\n",
    "\n",
    "video_game_tfidf_rf_fit = rf_classifier.fit(X_train, y_train)\n",
    "pickle.dump(video_game_tfidf_rf_fit, open('video_game_tfidf_rf_fit.pkl', 'wb'))\n",
    "video_game_tfidf_rf_fit = pickle.load(open('video_game_tfidf_rf_fit.pkl', 'rb'))"
   ]
  },
  {
   "cell_type": "code",
   "execution_count": 85,
   "metadata": {},
   "outputs": [
    {
     "data": {
      "text/plain": [
       "0.04968898823986782"
      ]
     },
     "execution_count": 85,
     "metadata": {},
     "output_type": "execute_result"
    }
   ],
   "source": [
    "# misclassification rate\n",
    "len(np.where(y_test != video_game_tfidf_rf_fit.predict(X_test))[0]) / len(y_test)"
   ]
  },
  {
   "cell_type": "code",
   "execution_count": 86,
   "metadata": {},
   "outputs": [
    {
     "data": {
      "text/plain": [
       "0.9503110117601322"
      ]
     },
     "execution_count": 86,
     "metadata": {},
     "output_type": "execute_result"
    }
   ],
   "source": [
    "# mean accuracy of the model\n",
    "video_game_tfidf_rf_fit.score(X_test, y_test)"
   ]
  },
  {
   "cell_type": "code",
   "execution_count": 87,
   "metadata": {},
   "outputs": [
    {
     "data": {
      "image/png": "[encoded data removed]",
      "text/plain": [
       "<Figure size 432x288 with 1 Axes>"
      ]
     },
     "metadata": {
      "needs_background": "light"
     },
     "output_type": "display_data"
    }
   ],
   "source": [
    "from sklearn import metrics\n",
    "prob_value = video_game_tfidf_rf_fit.predict_proba(X_test)[:,1]\n",
    "fpr, tpr, thresholds = metrics.roc_curve(y_test, prob_value)\n",
    "plt.plot(fpr, tpr, color='darkorange')\n",
    "plt.plot([0,1], [0,1], color='navy', linestyle='--')\n",
    "plt.suptitle('ROC Curve')\n",
    "plt.xlabel('False Positive Rate')\n",
    "plt.ylabel('True Positive Rate')\n",
    "plt.show()"
   ]
  },
  {
   "cell_type": "code",
   "execution_count": 88,
   "metadata": {},
   "outputs": [
    {
     "data": {
      "text/plain": [
       "0.9565820417534363"
      ]
     },
     "execution_count": 88,
     "metadata": {},
     "output_type": "execute_result"
    }
   ],
   "source": [
    "# AUC\n",
    "roc_auc_score(y_test, video_game_tfidf_rf_fit.predict(X_test))"
   ]
  },
  {
   "cell_type": "code",
   "execution_count": 89,
   "metadata": {},
   "outputs": [
    {
     "data": {
      "text/plain": [
       "0.9508598325698894"
      ]
     },
     "execution_count": 89,
     "metadata": {},
     "output_type": "execute_result"
    }
   ],
   "source": [
    "# F1 score\n",
    "f1_score(y_test, video_game_tfidf_rf_fit.predict(X_test), average='weighted')"
   ]
  },
  {
   "cell_type": "markdown",
   "metadata": {},
   "source": [
    "We apply the model to the test dataset and obtain various scores."
   ]
  },
  {
   "cell_type": "code",
   "execution_count": 90,
   "metadata": {},
   "outputs": [],
   "source": [
    "# transform text data in test set\n",
    "video_game_review_test['converted_review'] = video_game_review_test['review'].str.lower()\n",
    "converted_review = list(video_game_review_test['converted_review'])\n",
    "converted_review = [remove_special_characters(sentence) for sentence in converted_review]\n",
    "video_game_review_test['converted_review'] = pd.Series(converted_review)\n",
    "\n",
    "pickle.dump(video_game_review_test, open('video_game_review_test.pkl', 'wb'))\n",
    "video_game_review_test = pickle.load(open('video_game_review_test.pkl', 'rb'))"
   ]
  },
  {
   "cell_type": "code",
   "execution_count": 91,
   "metadata": {},
   "outputs": [],
   "source": [
    "# construct TF-IDF Matrix with true label column\n",
    "tfidf_sparse = video_game_tfidf_vect_fit.transform(video_game_review_test['converted_review'])\n",
    "tfidf_dense = tfidf_sparse.todense(order=None, out=None)\n",
    "tfidf_dense = pd.DataFrame(tfidf_dense)\n",
    "tfidf_dense['y'] = video_game_review_test['sentiment']"
   ]
  },
  {
   "cell_type": "code",
   "execution_count": 92,
   "metadata": {},
   "outputs": [
    {
     "data": {
      "text/plain": [
       "0.1266361419399791"
      ]
     },
     "execution_count": 92,
     "metadata": {},
     "output_type": "execute_result"
    }
   ],
   "source": [
    "# misclassification rate\n",
    "X_test = tfidf_dense.iloc[:,:-1]\n",
    "y_test = tfidf_dense.iloc[:,-1]\n",
    "videogame_tf_error = len(np.where(y_test != video_game_tfidf_rf_fit.predict(X_test))[0]) / len(y_test)\n",
    "videogame_tf_error"
   ]
  },
  {
   "cell_type": "code",
   "execution_count": 93,
   "metadata": {},
   "outputs": [
    {
     "data": {
      "image/png": "[encoded data removed]",
      "text/plain": [
       "<Figure size 432x288 with 1 Axes>"
      ]
     },
     "metadata": {
      "needs_background": "light"
     },
     "output_type": "display_data"
    }
   ],
   "source": [
    "prob_value = video_game_tfidf_rf_fit.predict_proba(X_test)[:,1]\n",
    "fpr, tpr, thresholds = metrics.roc_curve(y_test, prob_value)\n",
    "plt.plot(fpr, tpr, color='darkorange')\n",
    "plt.plot([0,1], [0,1], color='navy', linestyle='--')\n",
    "plt.suptitle('Video Game Review ROC Curve (TF-IDF)')\n",
    "plt.xlabel('False Positive Rate')\n",
    "plt.ylabel('True Positive Rate')\n",
    "plt.show()"
   ]
  },
  {
   "cell_type": "code",
   "execution_count": 94,
   "metadata": {},
   "outputs": [
    {
     "data": {
      "text/plain": [
       "0.7153127099071767"
      ]
     },
     "execution_count": 94,
     "metadata": {},
     "output_type": "execute_result"
    }
   ],
   "source": [
    "# AUC\n",
    "videogame_tf_auc = roc_auc_score(y_test, video_game_tfidf_rf_fit.predict(X_test))\n",
    "videogame_tf_auc"
   ]
  },
  {
   "cell_type": "code",
   "execution_count": 95,
   "metadata": {},
   "outputs": [
    {
     "data": {
      "text/plain": [
       "0.8704039949602521"
      ]
     },
     "execution_count": 95,
     "metadata": {},
     "output_type": "execute_result"
    }
   ],
   "source": [
    "# F1 score\n",
    "videogame_tf_f1 = f1_score(y_test, video_game_tfidf_rf_fit.predict(X_test), average='weighted')\n",
    "videogame_tf_f1"
   ]
  },
  {
   "cell_type": "markdown",
   "metadata": {},
   "source": [
    "### 2. Parsimonious Rule-Based Model Approach\n",
    "The following codes are exactly the same as our previous __Parsimonious Rule-Based Model__ for __Yelp review__ data."
   ]
  },
  {
   "cell_type": "code",
   "execution_count": 96,
   "metadata": {},
   "outputs": [],
   "source": [
    "VADER_video_game_review = video_game_review_test.copy()"
   ]
  },
  {
   "cell_type": "code",
   "execution_count": 97,
   "metadata": {},
   "outputs": [],
   "source": [
    "from vaderSentiment.vaderSentiment import SentimentIntensityAnalyzer\n",
    "analyzer = SentimentIntensityAnalyzer()\n",
    "def sentiment_analyzer(x):\n",
    "    x = analyzer.polarity_scores(x).get('compound')\n",
    "    return x\n",
    "VADER_video_game_review['polarity_score'] = np.vectorize(sentiment_analyzer)(VADER_video_game_review['review'])"
   ]
  },
  {
   "cell_type": "code",
   "execution_count": 98,
   "metadata": {},
   "outputs": [],
   "source": [
    "def normalize(x):\n",
    "    x = (x+1)/2\n",
    "    return x\n",
    "VADER_video_game_review['normalized_polarity_score'] = np.vectorize(normalize)(VADER_video_game_review['polarity_score'])"
   ]
  },
  {
   "cell_type": "code",
   "execution_count": 99,
   "metadata": {},
   "outputs": [],
   "source": [
    "def VADER_sentiment(x):\n",
    "    if x > 0.5:\n",
    "        y = 1\n",
    "    elif x == 0.5:\n",
    "        if np.random.uniform(0,1) >= 0.5:\n",
    "            y = 1\n",
    "        else:\n",
    "            y = 0\n",
    "    else:\n",
    "        y = 0\n",
    "    return y\n",
    "VADER_video_game_review['predicted_sentiment'] = np.vectorize(VADER_sentiment)(VADER_video_game_review['normalized_polarity_score'])"
   ]
  },
  {
   "cell_type": "code",
   "execution_count": 100,
   "metadata": {},
   "outputs": [
    {
     "data": {
      "text/html": [
       "<div>\n",
       "<style scoped>\n",
       "    .dataframe tbody tr th:only-of-type {\n",
       "        vertical-align: middle;\n",
       "    }\n",
       "\n",
       "    .dataframe tbody tr th {\n",
       "        vertical-align: top;\n",
       "    }\n",
       "\n",
       "    .dataframe thead th {\n",
       "        text-align: right;\n",
       "    }\n",
       "</style>\n",
       "<table border=\"1\" class=\"dataframe\">\n",
       "  <thead>\n",
       "    <tr style=\"text-align: right;\">\n",
       "      <th></th>\n",
       "      <th>review</th>\n",
       "      <th>rating</th>\n",
       "      <th>sentiment</th>\n",
       "      <th>converted_review</th>\n",
       "      <th>polarity_score</th>\n",
       "      <th>normalized_polarity_score</th>\n",
       "      <th>predicted_sentiment</th>\n",
       "    </tr>\n",
       "  </thead>\n",
       "  <tbody>\n",
       "    <tr>\n",
       "      <th>0</th>\n",
       "      <td>I really tried to like this game, having like ...</td>\n",
       "      <td>1</td>\n",
       "      <td>0</td>\n",
       "      <td>i really tried to like this game having like t...</td>\n",
       "      <td>-0.5065</td>\n",
       "      <td>0.24675</td>\n",
       "      <td>0</td>\n",
       "    </tr>\n",
       "    <tr>\n",
       "      <th>1</th>\n",
       "      <td>The battery works great! However, the charger ...</td>\n",
       "      <td>2</td>\n",
       "      <td>0</td>\n",
       "      <td>the battery works great however the charger la...</td>\n",
       "      <td>0.3802</td>\n",
       "      <td>0.69010</td>\n",
       "      <td>1</td>\n",
       "    </tr>\n",
       "    <tr>\n",
       "      <th>2</th>\n",
       "      <td>Two of our teenagers tried this game, and both...</td>\n",
       "      <td>1</td>\n",
       "      <td>0</td>\n",
       "      <td>two of our teenagers tried this game and both ...</td>\n",
       "      <td>-0.8074</td>\n",
       "      <td>0.09630</td>\n",
       "      <td>0</td>\n",
       "    </tr>\n",
       "    <tr>\n",
       "      <th>3</th>\n",
       "      <td>FULL CONFESSION:  I played about halfway throu...</td>\n",
       "      <td>1</td>\n",
       "      <td>0</td>\n",
       "      <td>full confession  i played about halfway throug...</td>\n",
       "      <td>-0.8182</td>\n",
       "      <td>0.09090</td>\n",
       "      <td>0</td>\n",
       "    </tr>\n",
       "    <tr>\n",
       "      <th>4</th>\n",
       "      <td>i got 4 of these in a row.. all with scroll wh...</td>\n",
       "      <td>1</td>\n",
       "      <td>0</td>\n",
       "      <td>i got 4 of these in a row all with scroll whee...</td>\n",
       "      <td>0.6546</td>\n",
       "      <td>0.82730</td>\n",
       "      <td>1</td>\n",
       "    </tr>\n",
       "    <tr>\n",
       "      <th>5</th>\n",
       "      <td>Oh dear. A game that had the potential to be t...</td>\n",
       "      <td>2</td>\n",
       "      <td>0</td>\n",
       "      <td>oh dear a game that had the potential to be th...</td>\n",
       "      <td>0.8402</td>\n",
       "      <td>0.92010</td>\n",
       "      <td>1</td>\n",
       "    </tr>\n",
       "    <tr>\n",
       "      <th>6</th>\n",
       "      <td>BE WARNED!I originally purchased this game for...</td>\n",
       "      <td>1</td>\n",
       "      <td>0</td>\n",
       "      <td>be warnedi originally purchased this game for ...</td>\n",
       "      <td>0.8437</td>\n",
       "      <td>0.92185</td>\n",
       "      <td>1</td>\n",
       "    </tr>\n",
       "    <tr>\n",
       "      <th>7</th>\n",
       "      <td>Be careful of this product when I bought this ...</td>\n",
       "      <td>1</td>\n",
       "      <td>0</td>\n",
       "      <td>be careful of this product when i bought this ...</td>\n",
       "      <td>0.4845</td>\n",
       "      <td>0.74225</td>\n",
       "      <td>1</td>\n",
       "    </tr>\n",
       "    <tr>\n",
       "      <th>8</th>\n",
       "      <td>I am a casual gamer and a grown man. I am unab...</td>\n",
       "      <td>2</td>\n",
       "      <td>0</td>\n",
       "      <td>i am a casual gamer and a grown man i am unabl...</td>\n",
       "      <td>-0.7211</td>\n",
       "      <td>0.13945</td>\n",
       "      <td>0</td>\n",
       "    </tr>\n",
       "    <tr>\n",
       "      <th>9</th>\n",
       "      <td>This could be because I have been using Playst...</td>\n",
       "      <td>1</td>\n",
       "      <td>0</td>\n",
       "      <td>this could be because i have been using playst...</td>\n",
       "      <td>0.7928</td>\n",
       "      <td>0.89640</td>\n",
       "      <td>1</td>\n",
       "    </tr>\n",
       "  </tbody>\n",
       "</table>\n",
       "</div>"
      ],
      "text/plain": [
       "                                              review  rating  sentiment  \\\n",
       "0  I really tried to like this game, having like ...       1          0   \n",
       "1  The battery works great! However, the charger ...       2          0   \n",
       "2  Two of our teenagers tried this game, and both...       1          0   \n",
       "3  FULL CONFESSION:  I played about halfway throu...       1          0   \n",
       "4  i got 4 of these in a row.. all with scroll wh...       1          0   \n",
       "5  Oh dear. A game that had the potential to be t...       2          0   \n",
       "6  BE WARNED!I originally purchased this game for...       1          0   \n",
       "7  Be careful of this product when I bought this ...       1          0   \n",
       "8  I am a casual gamer and a grown man. I am unab...       2          0   \n",
       "9  This could be because I have been using Playst...       1          0   \n",
       "\n",
       "                                    converted_review  polarity_score  \\\n",
       "0  i really tried to like this game having like t...         -0.5065   \n",
       "1  the battery works great however the charger la...          0.3802   \n",
       "2  two of our teenagers tried this game and both ...         -0.8074   \n",
       "3  full confession  i played about halfway throug...         -0.8182   \n",
       "4  i got 4 of these in a row all with scroll whee...          0.6546   \n",
       "5  oh dear a game that had the potential to be th...          0.8402   \n",
       "6  be warnedi originally purchased this game for ...          0.8437   \n",
       "7  be careful of this product when i bought this ...          0.4845   \n",
       "8  i am a casual gamer and a grown man i am unabl...         -0.7211   \n",
       "9  this could be because i have been using playst...          0.7928   \n",
       "\n",
       "   normalized_polarity_score  predicted_sentiment  \n",
       "0                    0.24675                    0  \n",
       "1                    0.69010                    1  \n",
       "2                    0.09630                    0  \n",
       "3                    0.09090                    0  \n",
       "4                    0.82730                    1  \n",
       "5                    0.92010                    1  \n",
       "6                    0.92185                    1  \n",
       "7                    0.74225                    1  \n",
       "8                    0.13945                    0  \n",
       "9                    0.89640                    1  "
      ]
     },
     "execution_count": 100,
     "metadata": {},
     "output_type": "execute_result"
    }
   ],
   "source": [
    "pickle.dump(VADER_video_game_review, open('VADER_video_game_review.pkl', 'wb'))\n",
    "VADER_video_game_review = pickle.load(open('VADER_video_game_review.pkl', 'rb'))\n",
    "VADER_video_game_review.head(10)"
   ]
  },
  {
   "cell_type": "code",
   "execution_count": 101,
   "metadata": {},
   "outputs": [
    {
     "data": {
      "text/plain": [
       "0.1542079331110337"
      ]
     },
     "execution_count": 101,
     "metadata": {},
     "output_type": "execute_result"
    }
   ],
   "source": [
    "# misclassification rate\n",
    "videogame_vad_error = len(np.where(VADER_video_game_review['sentiment'] != VADER_video_game_review['predicted_sentiment'])[0]) / len(VADER_video_game_review)\n",
    "videogame_vad_error"
   ]
  },
  {
   "cell_type": "code",
   "execution_count": 102,
   "metadata": {},
   "outputs": [
    {
     "data": {
      "image/png": "[encoded data removed]",
      "text/plain": [
       "<Figure size 432x288 with 1 Axes>"
      ]
     },
     "metadata": {
      "needs_background": "light"
     },
     "output_type": "display_data"
    }
   ],
   "source": [
    "# ROC curve\n",
    "prob_value = VADER_video_game_review['normalized_polarity_score']\n",
    "fpr, tpr, thresholds = metrics.roc_curve(y_test, prob_value)\n",
    "plt.plot(fpr, tpr, color='darkorange')\n",
    "plt.plot([0,1], [0,1], color='navy', linestyle='--')\n",
    "plt.suptitle('Video Game Review ROC Curve (VADER)')\n",
    "plt.xlabel('False Positive Rate')\n",
    "plt.ylabel('True Positive Rate')\n",
    "plt.show()"
   ]
  },
  {
   "cell_type": "code",
   "execution_count": 103,
   "metadata": {},
   "outputs": [],
   "source": [
    "y_true = list(VADER_video_game_review['sentiment'])\n",
    "y_pred = list(VADER_video_game_review['predicted_sentiment'])"
   ]
  },
  {
   "cell_type": "code",
   "execution_count": 104,
   "metadata": {},
   "outputs": [
    {
     "data": {
      "text/plain": [
       "0.6862711428634284"
      ]
     },
     "execution_count": 104,
     "metadata": {},
     "output_type": "execute_result"
    }
   ],
   "source": [
    "# AUC score\n",
    "videogame_vad_auc = roc_auc_score(y_true, y_pred)\n",
    "videogame_vad_auc"
   ]
  },
  {
   "cell_type": "code",
   "execution_count": 105,
   "metadata": {},
   "outputs": [
    {
     "data": {
      "text/plain": [
       "0.8467431940592801"
      ]
     },
     "execution_count": 105,
     "metadata": {},
     "output_type": "execute_result"
    }
   ],
   "source": [
    "# F1 score\n",
    "videogame_vad_f1 = f1_score(y_true, y_pred, average='weighted')\n",
    "videogame_vad_f1"
   ]
  },
  {
   "cell_type": "markdown",
   "metadata": {},
   "source": [
    "The below is a table with scores. Again, __TF-IDF Model__ worked better than __Parsimonious Rule-Based Model__."
   ]
  },
  {
   "cell_type": "code",
   "execution_count": 106,
   "metadata": {},
   "outputs": [
    {
     "data": {
      "text/html": [
       "<div>\n",
       "<style scoped>\n",
       "    .dataframe tbody tr th:only-of-type {\n",
       "        vertical-align: middle;\n",
       "    }\n",
       "\n",
       "    .dataframe tbody tr th {\n",
       "        vertical-align: top;\n",
       "    }\n",
       "\n",
       "    .dataframe thead th {\n",
       "        text-align: right;\n",
       "    }\n",
       "</style>\n",
       "<table border=\"1\" class=\"dataframe\">\n",
       "  <thead>\n",
       "    <tr style=\"text-align: right;\">\n",
       "      <th></th>\n",
       "      <th>Video Game Review (TF-IDF)</th>\n",
       "      <th>Video Game Review (VADER)</th>\n",
       "    </tr>\n",
       "  </thead>\n",
       "  <tbody>\n",
       "    <tr>\n",
       "      <th>error rate</th>\n",
       "      <td>0.126636</td>\n",
       "      <td>0.154208</td>\n",
       "    </tr>\n",
       "    <tr>\n",
       "      <th>AUC</th>\n",
       "      <td>0.715313</td>\n",
       "      <td>0.686271</td>\n",
       "    </tr>\n",
       "    <tr>\n",
       "      <th>F1 (weighted)</th>\n",
       "      <td>0.870404</td>\n",
       "      <td>0.846743</td>\n",
       "    </tr>\n",
       "  </tbody>\n",
       "</table>\n",
       "</div>"
      ],
      "text/plain": [
       "               Video Game Review (TF-IDF)  Video Game Review (VADER)\n",
       "error rate                       0.126636                   0.154208\n",
       "AUC                              0.715313                   0.686271\n",
       "F1 (weighted)                    0.870404                   0.846743"
      ]
     },
     "execution_count": 106,
     "metadata": {},
     "output_type": "execute_result"
    }
   ],
   "source": [
    "videogame_scores_df = pd.DataFrame({\n",
    "    'Video Game Review (TF-IDF)': [videogame_tf_error, videogame_tf_auc, videogame_tf_f1] ,\n",
    "    'Video Game Review (VADER)': [videogame_vad_error, videogame_vad_auc, videogame_vad_f1],\n",
    "    }, index = ('error rate', 'AUC', 'F1 (weighted)'))\n",
    "videogame_scores_df"
   ]
  },
  {
   "cell_type": "markdown",
   "metadata": {},
   "source": [
    "Let's put everything together and do final comparison between two models on two datasets."
   ]
  },
  {
   "cell_type": "code",
   "execution_count": 107,
   "metadata": {},
   "outputs": [
    {
     "data": {
      "text/html": [
       "<div>\n",
       "<style scoped>\n",
       "    .dataframe tbody tr th:only-of-type {\n",
       "        vertical-align: middle;\n",
       "    }\n",
       "\n",
       "    .dataframe tbody tr th {\n",
       "        vertical-align: top;\n",
       "    }\n",
       "\n",
       "    .dataframe thead th {\n",
       "        text-align: right;\n",
       "    }\n",
       "</style>\n",
       "<table border=\"1\" class=\"dataframe\">\n",
       "  <thead>\n",
       "    <tr style=\"text-align: right;\">\n",
       "      <th></th>\n",
       "      <th>Yelp Review (TF-IDF)</th>\n",
       "      <th>Yelp Review (VADER)</th>\n",
       "      <th>Video Game Review (TF-IDF)</th>\n",
       "      <th>Video Game Review (VADER)</th>\n",
       "    </tr>\n",
       "  </thead>\n",
       "  <tbody>\n",
       "    <tr>\n",
       "      <th>error rate</th>\n",
       "      <td>0.128913</td>\n",
       "      <td>0.213529</td>\n",
       "      <td>0.126636</td>\n",
       "      <td>0.154208</td>\n",
       "    </tr>\n",
       "    <tr>\n",
       "      <th>AUC</th>\n",
       "      <td>0.858868</td>\n",
       "      <td>0.726627</td>\n",
       "      <td>0.715313</td>\n",
       "      <td>0.686271</td>\n",
       "    </tr>\n",
       "    <tr>\n",
       "      <th>F1 (weighted)</th>\n",
       "      <td>0.870449</td>\n",
       "      <td>0.765685</td>\n",
       "      <td>0.870404</td>\n",
       "      <td>0.846743</td>\n",
       "    </tr>\n",
       "  </tbody>\n",
       "</table>\n",
       "</div>"
      ],
      "text/plain": [
       "               Yelp Review (TF-IDF)  Yelp Review (VADER)  \\\n",
       "error rate                 0.128913             0.213529   \n",
       "AUC                        0.858868             0.726627   \n",
       "F1 (weighted)              0.870449             0.765685   \n",
       "\n",
       "               Video Game Review (TF-IDF)  Video Game Review (VADER)  \n",
       "error rate                       0.126636                   0.154208  \n",
       "AUC                              0.715313                   0.686271  \n",
       "F1 (weighted)                    0.870404                   0.846743  "
      ]
     },
     "execution_count": 107,
     "metadata": {},
     "output_type": "execute_result"
    }
   ],
   "source": [
    "all_results_df = pd.concat([Yelp_scores_df, videogame_scores_df], axis=1)\n",
    "all_results_df"
   ]
  },
  {
   "cell_type": "markdown",
   "metadata": {},
   "source": [
    "## Conclusion\n",
    "First of all, an odd thing we notice is that the __Parsimonious Rule-Based Model__ actually performed better on __video game review__, which is unexpected. We thought it would not work as well as on __Yelp review__ since some of the game-related technical words such as *kill*, *die*, *destroy* could be used to express positive sentiment. In general, these words are supposed to be used to express negative sentiment. We think that the 5 general rules have a significant impact on its generalizability.\n",
    "\n",
    "__TF-IDF__ is currently considered one of the most standard approaches to text mining. The performance metric (even without fine-parameter-tuning) clearly showed why it is considered the industry standard. However, we emphasize the achievement of __Parsimonious Rule-Based Model__ by comparing it with disadvantages of __TF-IDF Model__.\n",
    "\n",
    "Disadvantages of __TF-IDF__ (Advantages of __Parsimonious Rule-Based Model__)\n",
    "\n",
    "1. Does not take structure of words (grammar or idioms) into account.\n",
    "2. Hard to interpret (black-box random forest).\n",
    "3. Scalability (fast enough to be used online with streaming data).\n",
    "4. Less of speed-performance tradeoff.\n",
    "\n",
    "We, especially, want to emphasize the interpretability part. For further improvement, having an interpretable model is very important. Without interpretable models, if something goes wrong, we might have to start building a new model from scratch, which is definitely not desirable. Also, the computational aspect should be mentioned. Because of kernel death problem, we couldn't use *Pipeline* to fine-tune parameters of *TfidfVectorizer* and *RandomForestClassifier*. However, based on our experiment, the tuning would easily take multiple hours, while __Parsimonious Rule-Based Model__ took about 15 minutes for the entire process. While more and more sophisticated versions of machine learning algorithms are prevailing in data science, this is a great example where we can see the benefits of human-centric approach and the limitations of black-box machine learning approach.\n",
    "\n",
    "---"
   ]
  },
  {
   "cell_type": "markdown",
   "metadata": {},
   "source": [
    "__Appendix (some examples of 5 generalizable heuristics)__\n",
    "\n",
    "We think that it's worth presenting some examples that show the strengths of __Parsimonious Rule-Based Model__. __TF-IDF Model__ wouldn't be able to pick up the differences between the following examples, while __Parsimonious Rule-Based Model__ can accurately catch and score the right sentiment measures.\n",
    "\n",
    "It considers tri-gram preceding sentiment-laden lexical feature.\n",
    "<br>\n",
    "For example, __never been vs. never been this__ or __shit vs. the shit__"
   ]
  },
  {
   "cell_type": "code",
   "execution_count": 108,
   "metadata": {},
   "outputs": [
    {
     "data": {
      "text/plain": [
       "{'neg': 0.325, 'neu': 0.675, 'pos': 0.0, 'compound': -0.3412}"
      ]
     },
     "execution_count": 108,
     "metadata": {},
     "output_type": "execute_result"
    }
   ],
   "source": [
    "sentence = 'My life has never been good.'\n",
    "analyzer.polarity_scores(sentence)"
   ]
  },
  {
   "cell_type": "code",
   "execution_count": 109,
   "metadata": {},
   "outputs": [
    {
     "data": {
      "text/plain": [
       "{'neg': 0.0, 'neu': 0.64, 'pos': 0.36, 'compound': 0.5228}"
      ]
     },
     "execution_count": 109,
     "metadata": {},
     "output_type": "execute_result"
    }
   ],
   "source": [
    "sentence = 'My life has never been this good.'\n",
    "analyzer.polarity_scores(sentence)"
   ]
  },
  {
   "cell_type": "code",
   "execution_count": 110,
   "metadata": {},
   "outputs": [
    {
     "data": {
      "text/plain": [
       "{'neg': 0.582, 'neu': 0.418, 'pos': 0.0, 'compound': -0.6351}"
      ]
     },
     "execution_count": 110,
     "metadata": {},
     "output_type": "execute_result"
    }
   ],
   "source": [
    "sentence = 'PSTAT 234 is shit!!'\n",
    "analyzer.polarity_scores(sentence)"
   ]
  },
  {
   "cell_type": "code",
   "execution_count": 111,
   "metadata": {},
   "outputs": [
    {
     "data": {
      "text/plain": [
       "{'neg': 0.0, 'neu': 0.466, 'pos': 0.534, 'compound': 0.6792}"
      ]
     },
     "execution_count": 111,
     "metadata": {},
     "output_type": "execute_result"
    }
   ],
   "source": [
    "sentence = 'PSTAT 234 is the shit!!'\n",
    "analyzer.polarity_scores(sentence)"
   ]
  },
  {
   "cell_type": "markdown",
   "metadata": {},
   "source": [
    "It also considers different weights for pre-conjunction and post-conjunction."
   ]
  },
  {
   "cell_type": "code",
   "execution_count": 112,
   "metadata": {},
   "outputs": [
    {
     "data": {
      "text/plain": [
       "{'neg': 0.438, 'neu': 0.377, 'pos': 0.185, 'compound': -0.6542}"
      ]
     },
     "execution_count": 112,
     "metadata": {},
     "output_type": "execute_result"
    }
   ],
   "source": [
    "sentence = 'I loved the food, but I hated their staff.'\n",
    "analyzer.polarity_scores(sentence)"
   ]
  },
  {
   "cell_type": "code",
   "execution_count": 113,
   "metadata": {},
   "outputs": [
    {
     "data": {
      "text/plain": [
       "{'neg': 0.201, 'neu': 0.386, 'pos': 0.413, 'compound': 0.5789}"
      ]
     },
     "execution_count": 113,
     "metadata": {},
     "output_type": "execute_result"
    }
   ],
   "source": [
    "sentence = 'I hated their staff, but I loved the food.'\n",
    "analyzer.polarity_scores(sentence)"
   ]
  },
  {
   "cell_type": "markdown",
   "metadata": {},
   "source": [
    "__Reference__\n",
    "\n",
    "Special thanks to Julian McAuley, *Assistant Professor*, Computer Science Department @ UCSD  \n",
    "R. He, J. McAuley. Modeling the visual evolution of fashion trends with one-class collaborative filtering. WWW, 2016.  \n",
    "J. McAuley, C. Targett, J. Shi, A. van den Hengel. Image-based recommendations on styles and substitutes. SIGIR, 2015.\n",
    "\n",
    "Hutto, C.J. & Gilbert, Eric. (2015). VADER: A Parsimonious Rule-based Model for Sentiment Analysis of Social Media Text. Proceedings of the 8th International Conference on Weblogs and Social Media, ICWSM 2014. "
   ]
  }
 ],
 "metadata": {
  "kernelspec": {
   "display_name": "Python 3",
   "language": "python",
   "name": "python3"
  },
  "language_info": {
   "codemirror_mode": {
    "name": "ipython",
    "version": 3
   },
   "file_extension": ".py",
   "mimetype": "text/x-python",
   "name": "python",
   "nbconvert_exporter": "python",
   "pygments_lexer": "ipython3",
   "version": "3.6.5"
  }
 },
 "nbformat": 4,
 "nbformat_minor": 2
}
